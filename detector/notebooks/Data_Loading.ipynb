{
  "nbformat": 4,
  "nbformat_minor": 0,
  "metadata": {
    "colab": {
      "name": "Data_Loading.ipynb",
      "provenance": [],
      "collapsed_sections": []
    },
    "kernelspec": {
      "name": "python3",
      "display_name": "Python 3"
    },
    "accelerator": "GPU"
  },
  "cells": [
    {
      "cell_type": "code",
      "metadata": {
        "id": "vkgIcoF_w0cl",
        "colab_type": "code",
        "outputId": "92ec0479-dd04-4022-be65-55d0576cd540",
        "colab": {
          "base_uri": "https://localhost:8080/",
          "height": 34
        }
      },
      "source": [
        "try:\n",
        "  # %tensorflow_version only exists in Colab.\n",
        "  %tensorflow_version 2.x\n",
        "except Exception:\n",
        "  pass\n",
        "import tensorflow as tf"
      ],
      "execution_count": 0,
      "outputs": [
        {
          "output_type": "stream",
          "text": [
            "TensorFlow 2.x selected.\n"
          ],
          "name": "stdout"
        }
      ]
    },
    {
      "cell_type": "code",
      "metadata": {
        "id": "EbzSrRPgwkU6",
        "colab_type": "code",
        "colab": {}
      },
      "source": [
        "import os\n",
        "import pathlib\n",
        "import time"
      ],
      "execution_count": 0,
      "outputs": []
    },
    {
      "cell_type": "code",
      "metadata": {
        "id": "9Own88fXwxNb",
        "colab_type": "code",
        "outputId": "8bea0169-6e61-47a3-8c4a-960e561dcbba",
        "colab": {
          "base_uri": "https://localhost:8080/",
          "height": 122
        }
      },
      "source": [
        "from google.colab import drive\n",
        "drive.mount('/content/gdrive')"
      ],
      "execution_count": 0,
      "outputs": [
        {
          "output_type": "stream",
          "text": [
            "Go to this URL in a browser: https://accounts.google.com/o/oauth2/auth?client_id=947318989803-6bn6qk8qdgf4n4g3pfee6491hc0brc4i.apps.googleusercontent.com&redirect_uri=urn%3aietf%3awg%3aoauth%3a2.0%3aoob&response_type=code&scope=email%20https%3a%2f%2fwww.googleapis.com%2fauth%2fdocs.test%20https%3a%2f%2fwww.googleapis.com%2fauth%2fdrive%20https%3a%2f%2fwww.googleapis.com%2fauth%2fdrive.photos.readonly%20https%3a%2f%2fwww.googleapis.com%2fauth%2fpeopleapi.readonly\n",
            "\n",
            "Enter your authorization code:\n",
            "··········\n",
            "Mounted at /content/gdrive\n"
          ],
          "name": "stdout"
        }
      ]
    },
    {
      "cell_type": "code",
      "metadata": {
        "id": "J36Pm67Qw_Vb",
        "colab_type": "code",
        "outputId": "b2dce00c-676f-4443-cd38-3a513af90ce9",
        "colab": {
          "base_uri": "https://localhost:8080/",
          "height": 34
        }
      },
      "source": [
        "# Decompress the compressed reorganized \"Jester\" dataset in Google Colab VM\n",
        "\n",
        "start = time.time()\n",
        "!cat /content/gdrive/My\\ Drive/DashGC/Reorganized/Dataset.tar.gz.?? | tar -xz\n",
        "stop = time.time()\n",
        "print('Decompression took', round(((stop - start) / 60), 2), 'mins')"
      ],
      "execution_count": 0,
      "outputs": [
        {
          "output_type": "stream",
          "text": [
            "Decompression took 8.15 mins\n"
          ],
          "name": "stdout"
        }
      ]
    },
    {
      "cell_type": "code",
      "metadata": {
        "colab_type": "code",
        "id": "mIdR9HroYZNs",
        "colab": {}
      },
      "source": [
        "AUTOTUNE = tf.data.experimental.AUTOTUNE"
      ],
      "execution_count": 0,
      "outputs": []
    },
    {
      "cell_type": "code",
      "metadata": {
        "id": "gDDF8T3gwhhi",
        "colab_type": "code",
        "outputId": "8590729f-ef84-4402-92c0-1697468741f8",
        "colab": {
          "base_uri": "https://localhost:8080/",
          "height": 51
        }
      },
      "source": [
        "# Use Pathlib to get the path root to the dataset\n",
        "\n",
        "train_data_root_orig = \"./Dataset/Train\"\n",
        "train_data_root = pathlib.Path(train_data_root_orig)\n",
        "print(train_data_root)\n",
        "\n",
        "val_data_root_orig = \"./Dataset/Validation\"\n",
        "val_data_root = pathlib.Path(val_data_root_orig)\n",
        "print(val_data_root)"
      ],
      "execution_count": 0,
      "outputs": [
        {
          "output_type": "stream",
          "text": [
            "Dataset/Train\n",
            "Dataset/Validation\n"
          ],
          "name": "stdout"
        }
      ]
    },
    {
      "cell_type": "code",
      "metadata": {
        "id": "GDwh-dAOwtOX",
        "colab_type": "code",
        "outputId": "bb894ac1-26a8-4834-b860-acdb2e729aad",
        "colab": {
          "base_uri": "https://localhost:8080/",
          "height": 476
        }
      },
      "source": [
        "# Prints all of the directories in validation path root\n",
        "\n",
        "for item in val_data_root.iterdir():\n",
        "    print(item)"
      ],
      "execution_count": 0,
      "outputs": [
        {
          "output_type": "stream",
          "text": [
            "Dataset/Validation/Rolling Hand Forward\n",
            "Dataset/Validation/Doing other things\n",
            "Dataset/Validation/Turning Hand Counterclockwise\n",
            "Dataset/Validation/Sliding Two Fingers Down\n",
            "Dataset/Validation/Zooming In With Full Hand\n",
            "Dataset/Validation/Rolling Hand Backward\n",
            "Dataset/Validation/Swiping Left\n",
            "Dataset/Validation/Thumb Up\n",
            "Dataset/Validation/Zooming Out With Full Hand\n",
            "Dataset/Validation/Thumb Down\n",
            "Dataset/Validation/Turning Hand Clockwise\n",
            "Dataset/Validation/Pushing Two Fingers Away\n",
            "Dataset/Validation/No gesture\n",
            "Dataset/Validation/Sliding Two Fingers Right\n",
            "Dataset/Validation/Sliding Two Fingers Left\n",
            "Dataset/Validation/Sliding Two Fingers Up\n",
            "Dataset/Validation/Swiping Down\n",
            "Dataset/Validation/Swiping Up\n",
            "Dataset/Validation/Shaking Hand\n",
            "Dataset/Validation/Zooming Out With Two Fingers\n",
            "Dataset/Validation/Pulling Hand In\n",
            "Dataset/Validation/Pulling Two Fingers In\n",
            "Dataset/Validation/Swiping Right\n",
            "Dataset/Validation/Drumming Fingers\n",
            "Dataset/Validation/Stop Sign\n",
            "Dataset/Validation/Pushing Hand Away\n",
            "Dataset/Validation/Zooming In With Two Fingers\n"
          ],
          "name": "stdout"
        }
      ]
    },
    {
      "cell_type": "code",
      "metadata": {
        "id": "rRVbnOQYRvPt",
        "colab_type": "code",
        "outputId": "f3238f22-6f8f-46c4-8601-1b8620045c87",
        "colab": {
          "base_uri": "https://localhost:8080/",
          "height": 68
        }
      },
      "source": [
        "# Sorting path list by filename (aka frame id) [first] & directory name (aka video id) [second sort key]\n",
        "\n",
        "start = time.time()\n",
        "\n",
        "val_image_paths = list(val_data_root.glob('*/*/*'))\n",
        "val_image_paths = [str(path) for path in val_image_paths]\n",
        "val_image_paths.sort(key = lambda x: (int(str(x).split('/')[-1][:-5]), int(str(x).split('/')[-2])))\n",
        "\n",
        "train_image_paths = list(train_data_root.glob('*/*/*'))\n",
        "train_image_paths = [str(path) for path in train_image_paths]\n",
        "train_image_paths.sort(key = lambda x: (int(str(x).split('/')[-1][:-5]), int(str(x).split('/')[-2])))\n",
        "\n",
        "val_image_count = len(val_image_paths)\n",
        "print(val_image_count)\n",
        "\n",
        "train_image_count = len(train_image_paths)\n",
        "print(train_image_count)\n",
        "\n",
        "stop = time.time()\n",
        "print('Sorting took', round(((stop - start) / 60), 2), 'mins')"
      ],
      "execution_count": 0,
      "outputs": [
        {
          "output_type": "stream",
          "text": [
            "532578\n",
            "4219150\n",
            "Sorting took 0.74 mins\n"
          ],
          "name": "stdout"
        }
      ]
    },
    {
      "cell_type": "code",
      "metadata": {
        "id": "fhxeZRbwy7Si",
        "colab_type": "code",
        "outputId": "b30ff41e-b00e-4515-d348-cb63272560bb",
        "colab": {
          "base_uri": "https://localhost:8080/",
          "height": 187
        }
      },
      "source": [
        "# Prints the first 10 paths to check if sorting was correctly done.\n",
        "\n",
        "train_image_paths[:10]"
      ],
      "execution_count": 0,
      "outputs": [
        {
          "output_type": "execute_result",
          "data": {
            "text/plain": [
              "['Dataset/Train/Doing other things/1/00009.jpg',\n",
              " 'Dataset/Train/Doing other things/1/00007.jpg',\n",
              " 'Dataset/Train/Doing other things/1/00008.jpg',\n",
              " 'Dataset/Train/Doing other things/1/00002.jpg',\n",
              " 'Dataset/Train/Doing other things/1/00001.jpg',\n",
              " 'Dataset/Train/Doing other things/1/00005.jpg',\n",
              " 'Dataset/Train/Doing other things/1/00003.jpg',\n",
              " 'Dataset/Train/Doing other things/1/00004.jpg',\n",
              " 'Dataset/Train/Doing other things/1/00006.jpg',\n",
              " 'Dataset/Train/Pushing Two Fingers Away/3/00009.jpg']"
            ]
          },
          "metadata": {
            "tags": []
          },
          "execution_count": 9
        }
      ]
    },
    {
      "cell_type": "code",
      "metadata": {
        "id": "TCifutvjp2KZ",
        "colab_type": "code",
        "outputId": "8a536d6e-ae91-41da-8b3f-443354d7bfda",
        "colab": {
          "base_uri": "https://localhost:8080/",
          "height": 187
        }
      },
      "source": [
        "# Prints the first 10 paths to check if sorting was correctly done.\n",
        "\n",
        "val_image_paths[:10]"
      ],
      "execution_count": 0,
      "outputs": [
        {
          "output_type": "execute_result",
          "data": {
            "text/plain": [
              "['Dataset/Validation/Thumb Down/16/00009.jpg',\n",
              " 'Dataset/Validation/Thumb Down/16/00007.jpg',\n",
              " 'Dataset/Validation/Thumb Down/16/00008.jpg',\n",
              " 'Dataset/Validation/Thumb Down/16/00002.jpg',\n",
              " 'Dataset/Validation/Thumb Down/16/00001.jpg',\n",
              " 'Dataset/Validation/Thumb Down/16/00005.jpg',\n",
              " 'Dataset/Validation/Thumb Down/16/00003.jpg',\n",
              " 'Dataset/Validation/Thumb Down/16/00004.jpg',\n",
              " 'Dataset/Validation/Thumb Down/16/00006.jpg',\n",
              " 'Dataset/Validation/Zooming In With Full Hand/22/00009.jpg']"
            ]
          },
          "metadata": {
            "tags": []
          },
          "execution_count": 10
        }
      ]
    },
    {
      "cell_type": "code",
      "metadata": {
        "id": "DdKPVsXUzcqa",
        "colab_type": "code",
        "outputId": "793e0a1c-fbbf-4053-ef96-5e9bac069d8f",
        "colab": {
          "base_uri": "https://localhost:8080/",
          "height": 476
        }
      },
      "source": [
        "label_names = sorted(item.name for item in train_data_root.glob('*/') if item.is_dir())\n",
        "label_names"
      ],
      "execution_count": 0,
      "outputs": [
        {
          "output_type": "execute_result",
          "data": {
            "text/plain": [
              "['Doing other things',\n",
              " 'Drumming Fingers',\n",
              " 'No gesture',\n",
              " 'Pulling Hand In',\n",
              " 'Pulling Two Fingers In',\n",
              " 'Pushing Hand Away',\n",
              " 'Pushing Two Fingers Away',\n",
              " 'Rolling Hand Backward',\n",
              " 'Rolling Hand Forward',\n",
              " 'Shaking Hand',\n",
              " 'Sliding Two Fingers Down',\n",
              " 'Sliding Two Fingers Left',\n",
              " 'Sliding Two Fingers Right',\n",
              " 'Sliding Two Fingers Up',\n",
              " 'Stop Sign',\n",
              " 'Swiping Down',\n",
              " 'Swiping Left',\n",
              " 'Swiping Right',\n",
              " 'Swiping Up',\n",
              " 'Thumb Down',\n",
              " 'Thumb Up',\n",
              " 'Turning Hand Clockwise',\n",
              " 'Turning Hand Counterclockwise',\n",
              " 'Zooming In With Full Hand',\n",
              " 'Zooming In With Two Fingers',\n",
              " 'Zooming Out With Full Hand',\n",
              " 'Zooming Out With Two Fingers']"
            ]
          },
          "metadata": {
            "tags": []
          },
          "execution_count": 11
        }
      ]
    },
    {
      "cell_type": "code",
      "metadata": {
        "id": "afTtlWv_0D37",
        "colab_type": "code",
        "outputId": "cf107192-1312-4291-aa2b-f4e674514d72",
        "colab": {
          "base_uri": "https://localhost:8080/",
          "height": 476
        }
      },
      "source": [
        "# Indexing of classification class labels\n",
        "\n",
        "label_to_index = {name: index for index, name in enumerate(label_names)}\n",
        "label_to_index"
      ],
      "execution_count": 0,
      "outputs": [
        {
          "output_type": "execute_result",
          "data": {
            "text/plain": [
              "{'Doing other things': 0,\n",
              " 'Drumming Fingers': 1,\n",
              " 'No gesture': 2,\n",
              " 'Pulling Hand In': 3,\n",
              " 'Pulling Two Fingers In': 4,\n",
              " 'Pushing Hand Away': 5,\n",
              " 'Pushing Two Fingers Away': 6,\n",
              " 'Rolling Hand Backward': 7,\n",
              " 'Rolling Hand Forward': 8,\n",
              " 'Shaking Hand': 9,\n",
              " 'Sliding Two Fingers Down': 10,\n",
              " 'Sliding Two Fingers Left': 11,\n",
              " 'Sliding Two Fingers Right': 12,\n",
              " 'Sliding Two Fingers Up': 13,\n",
              " 'Stop Sign': 14,\n",
              " 'Swiping Down': 15,\n",
              " 'Swiping Left': 16,\n",
              " 'Swiping Right': 17,\n",
              " 'Swiping Up': 18,\n",
              " 'Thumb Down': 19,\n",
              " 'Thumb Up': 20,\n",
              " 'Turning Hand Clockwise': 21,\n",
              " 'Turning Hand Counterclockwise': 22,\n",
              " 'Zooming In With Full Hand': 23,\n",
              " 'Zooming In With Two Fingers': 24,\n",
              " 'Zooming Out With Full Hand': 25,\n",
              " 'Zooming Out With Two Fingers': 26}"
            ]
          },
          "metadata": {
            "tags": []
          },
          "execution_count": 12
        }
      ]
    },
    {
      "cell_type": "code",
      "metadata": {
        "id": "7RLEjldO0H3Y",
        "colab_type": "code",
        "outputId": "7fe79c71-a333-4493-f518-f04afe5d8262",
        "colab": {
          "base_uri": "https://localhost:8080/",
          "height": 51
        }
      },
      "source": [
        "# Stores the label index for each video\n",
        "\n",
        "start = time.time()\n",
        "\n",
        "train_image_labels = [label_to_index[pathlib.Path(path).parent.parent.name]\n",
        "                    for path in train_image_paths]\n",
        "\n",
        "val_image_labels = [label_to_index[pathlib.Path(path).parent.parent.name]\n",
        "                    for path in val_image_paths]\n",
        "\n",
        "print(\"First 10 labels indices: \", train_image_labels[:10])\n",
        "\n",
        "stop = time.time()\n",
        "print('Labeling took', round(((stop - start) / 60), 2), 'mins')"
      ],
      "execution_count": 0,
      "outputs": [
        {
          "output_type": "stream",
          "text": [
            "First 10 labels indices:  [0, 0, 0, 0, 0, 0, 0, 0, 0, 6]\n",
            "Labeling took 0.5 mins\n"
          ],
          "name": "stdout"
        }
      ]
    },
    {
      "cell_type": "code",
      "metadata": {
        "id": "jZcBW-WxGk4O",
        "colab_type": "code",
        "colab": {}
      },
      "source": [
        "# Decode the video frames as int64 values of color & recast it as float32\n",
        "# Resize the video frames into a squared size (100, 100, channels = 3)\n",
        "\n",
        "#@tf.function\n",
        "def preprocess_image(image):\n",
        "    '''\n",
        "    Decodes the binary form to normalized vector (aka tensor) form\n",
        "    '''\n",
        "    # img_raw = tf.io.read_file(img_path)\n",
        "    # img_tensor = tf.image.decode_image(img_raw)\n",
        "    image = tf.image.decode_jpeg(image, channels=3) # imports RGB channels, jpeg doesn't have a 4th channel alpha for transparency like png\n",
        "    image = tf.image.resize(image, [100, 100]) # original dimensions are (176, 100)\n",
        "    image /= 255.0  # normalize to [0,1] range\n",
        "    return image\n",
        "\n",
        "def load_and_preprocess_image(path):\n",
        "    '''\n",
        "    Open the file from path as binary\n",
        "    '''\n",
        "    image = tf.io.read_file(path)\n",
        "    return preprocess_image(image)\n",
        "\n",
        "def load_and_preprocess_from_path_label(path, label):\n",
        "    return load_and_preprocess_image(path), label"
      ],
      "execution_count": 0,
      "outputs": []
    },
    {
      "cell_type": "code",
      "metadata": {
        "id": "pF9WxUGm2VIQ",
        "colab_type": "code",
        "colab": {}
      },
      "source": [
        "# Load the images as tensors (numpy-like multidimensional arrays)\n",
        "\n",
        "train_path_ds = tf.data.Dataset.from_tensor_slices(train_image_paths)\n",
        "train_image_ds = train_path_ds.map(load_and_preprocess_image, num_parallel_calls=AUTOTUNE)\n",
        "\n",
        "val_path_ds = tf.data.Dataset.from_tensor_slices(val_image_paths)\n",
        "val_image_ds = val_path_ds.map(load_and_preprocess_image, num_parallel_calls=AUTOTUNE)"
      ],
      "execution_count": 0,
      "outputs": []
    },
    {
      "cell_type": "code",
      "metadata": {
        "id": "oNtddPIy_MQU",
        "colab_type": "code",
        "colab": {}
      },
      "source": [
        "# Labeling\n",
        "\n",
        "train_label_ds = tf.data.Dataset.from_tensor_slices(tf.cast(train_image_labels, tf.int64))\n",
        "val_label_ds = tf.data.Dataset.from_tensor_slices(tf.cast(val_image_labels, tf.int64))\n",
        "\n",
        "train_image_label_ds = tf.data.Dataset.zip((train_image_ds, train_label_ds))\n",
        "val_image_label_ds = tf.data.Dataset.zip((val_image_ds, val_label_ds))"
      ],
      "execution_count": 0,
      "outputs": []
    },
    {
      "cell_type": "code",
      "metadata": {
        "id": "-RlCYb43tUa4",
        "colab_type": "code",
        "outputId": "af7c1cfe-80a9-40d6-ab48-77093d8a5ea7",
        "colab": {
          "base_uri": "https://localhost:8080/",
          "height": 34
        }
      },
      "source": [
        "print(type(train_image_label_ds), type(val_image_label_ds))"
      ],
      "execution_count": 0,
      "outputs": [
        {
          "output_type": "stream",
          "text": [
            "<class 'tensorflow.python.data.ops.dataset_ops.ZipDataset'> <class 'tensorflow.python.data.ops.dataset_ops.ZipDataset'>\n"
          ],
          "name": "stdout"
        }
      ]
    },
    {
      "cell_type": "code",
      "metadata": {
        "id": "__7-bOnecgaF",
        "colab_type": "code",
        "outputId": "a88bfb0c-bfd3-4ee3-de22-cc5feb824cb4",
        "colab": {
          "base_uri": "https://localhost:8080/",
          "height": 34
        }
      },
      "source": [
        "tf.keras.layers.Input(shape = (100, 100, 3), sparse = True)"
      ],
      "execution_count": 0,
      "outputs": [
        {
          "output_type": "execute_result",
          "data": {
            "text/plain": [
              "<tensorflow.python.framework.sparse_tensor.SparseTensor at 0x7f7214605160>"
            ]
          },
          "metadata": {
            "tags": []
          },
          "execution_count": 21
        }
      ]
    },
    {
      "cell_type": "code",
      "metadata": {
        "id": "K-rXLr6-GbQz",
        "colab_type": "code",
        "outputId": "98b5eaca-3ae0-4b50-e20d-35bdeafc04c5",
        "colab": {
          "base_uri": "https://localhost:8080/",
          "height": 952
        }
      },
      "source": [
        "img_raw = tf.io.read_file(\"Dataset/Validation/Thumb Down/16/00001.jpg\")\n",
        "img_tensor = tf.image.decode_image(img_raw)\n",
        "\n",
        "print(img_tensor.shape)\n",
        "print(img_tensor.dtype)\n",
        "\n",
        "img_final = tf.image.resize(img_tensor, [100, 100])\n",
        "img_final = img_final/255.0\n",
        "print(img_final.shape)\n",
        "print(img_final.numpy().min())\n",
        "print(img_final.numpy().max())\n",
        "print(img_final)"
      ],
      "execution_count": 0,
      "outputs": [
        {
          "output_type": "stream",
          "text": [
            "(100, 176, 3)\n",
            "<dtype: 'uint8'>\n",
            "(100, 100, 3)\n",
            "0.0\n",
            "0.9341177\n",
            "tf.Tensor(\n",
            "[[[0.35929412 0.41811767 0.3985098 ]\n",
            "  [0.35686275 0.41568628 0.39607844]\n",
            "  [0.35686275 0.41568628 0.39607844]\n",
            "  ...\n",
            "  [0.10235296 0.13647054 0.11725488]\n",
            "  [0.09913725 0.12266666 0.10698039]\n",
            "  [0.09411765 0.11764706 0.10196079]]\n",
            "\n",
            " [[0.35835293 0.41717646 0.3975686 ]\n",
            "  [0.3602353  0.41905883 0.399451  ]\n",
            "  [0.3498039  0.40862745 0.3890196 ]\n",
            "  ...\n",
            "  [0.09058826 0.12470584 0.10549017]\n",
            "  [0.0907451  0.11427451 0.09858824]\n",
            "  [0.09262743 0.11615685 0.10047057]]\n",
            "\n",
            " [[0.35835293 0.41717646 0.3975686 ]\n",
            "  [0.3602353  0.41905883 0.399451  ]\n",
            "  [0.34627452 0.40509805 0.3854902 ]\n",
            "  ...\n",
            "  [0.07843138 0.12078427 0.09764703]\n",
            "  [0.07843138 0.11372549 0.09411765]\n",
            "  [0.08721565 0.12250976 0.10290192]]\n",
            "\n",
            " ...\n",
            "\n",
            " [[0.00392157 0.01568628 0.        ]\n",
            "  [0.00447059 0.01623529 0.        ]\n",
            "  [0.01843137 0.02313725 0.        ]\n",
            "  ...\n",
            "  [0.02588226 0.02980383 0.01058816]\n",
            "  [0.0050196  0.00894117 0.        ]\n",
            "  [0.00635292 0.01027449 0.        ]]\n",
            "\n",
            " [[0.01568628 0.02745098 0.        ]\n",
            "  [0.01231373 0.02407843 0.        ]\n",
            "  [0.0227451  0.02745098 0.00352941]\n",
            "  ...\n",
            "  [0.02235287 0.02627444 0.00705878]\n",
            "  [0.00164705 0.00556862 0.        ]\n",
            "  [0.00243135 0.00635292 0.        ]]\n",
            "\n",
            " [[0.02447059 0.03623529 0.00878431]\n",
            "  [0.00729412 0.01905882 0.        ]\n",
            "  [0.01098039 0.01568628 0.        ]\n",
            "  ...\n",
            "  [0.01803912 0.02196069 0.00352939]\n",
            "  [0.00054902 0.00447059 0.        ]\n",
            "  [0.         0.00392157 0.        ]]], shape=(100, 100, 3), dtype=float32)\n"
          ],
          "name": "stdout"
        }
      ]
    }
  ]
}