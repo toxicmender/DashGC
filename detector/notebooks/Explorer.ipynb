{
  "nbformat": 4,
  "nbformat_minor": 0,
  "metadata": {
    "colab": {
      "name": "Explorer.ipynb",
      "provenance": [],
      "collapsed_sections": []
    },
    "kernelspec": {
      "name": "python3",
      "display_name": "Python 3"
    },
    "accelerator": "TPU"
  },
  "cells": [
    {
      "cell_type": "code",
      "metadata": {
        "id": "DY2OZRgYDJlj",
        "colab_type": "code",
        "outputId": "1a177546-5d25-4ffa-c171-6911edb334c6",
        "colab": {
          "base_uri": "https://localhost:8080/",
          "height": 34
        }
      },
      "source": [
        "try:\n",
        "  # %tensorflow_version only exists in Colab.\n",
        "  %tensorflow_version 2.x\n",
        "except Exception:\n",
        "  pass\n",
        "import tensorflow as tf"
      ],
      "execution_count": 0,
      "outputs": [
        {
          "output_type": "stream",
          "text": [
            "TensorFlow 2.x selected.\n"
          ],
          "name": "stdout"
        }
      ]
    },
    {
      "cell_type": "code",
      "metadata": {
        "id": "xaKP5xD-2qch",
        "colab_type": "code",
        "colab": {}
      },
      "source": [
        "import functools\n",
        "import math\n",
        "import numpy as np\n",
        "import os\n",
        "import time\n",
        "import pandas as pd\n",
        "from PIL import Image"
      ],
      "execution_count": 0,
      "outputs": []
    },
    {
      "cell_type": "code",
      "metadata": {
        "id": "KWi-Iplm3Kql",
        "colab_type": "code",
        "outputId": "b2f104ad-df9b-4e4c-cf7d-b95e7d921d22",
        "colab": {
          "base_uri": "https://localhost:8080/",
          "height": 122
        }
      },
      "source": [
        "from google.colab import drive\n",
        "drive.mount('/content/gdrive')"
      ],
      "execution_count": 0,
      "outputs": [
        {
          "output_type": "stream",
          "text": [
            "Go to this URL in a browser: https://accounts.google.com/o/oauth2/auth?client_id=947318989803-6bn6qk8qdgf4n4g3pfee6491hc0brc4i.apps.googleusercontent.com&redirect_uri=urn%3aietf%3awg%3aoauth%3a2.0%3aoob&response_type=code&scope=email%20https%3a%2f%2fwww.googleapis.com%2fauth%2fdocs.test%20https%3a%2f%2fwww.googleapis.com%2fauth%2fdrive%20https%3a%2f%2fwww.googleapis.com%2fauth%2fdrive.photos.readonly%20https%3a%2f%2fwww.googleapis.com%2fauth%2fpeopleapi.readonly\n",
            "\n",
            "Enter your authorization code:\n",
            "··········\n",
            "Mounted at /content/gdrive\n"
          ],
          "name": "stdout"
        }
      ]
    },
    {
      "cell_type": "code",
      "metadata": {
        "id": "I2sa2SOo8CC9",
        "colab_type": "code",
        "colab": {}
      },
      "source": [
        "train = pd.read_csv(\"/content/gdrive/My Drive/DashGC/Original/jester-v1-train.csv\", sep = ';', names = (\"video_id\", \"label\", \"frames\", \"label_id\", \"shape\", \"format\"))\n",
        "val = pd.read_csv(\"/content/gdrive/My Drive/DashGC/Original/jester-v1-validation.csv\", sep = ';', names = (\"video_id\", \"label\", \"frames\", \"label_id\", \"shape\", \"format\"))\n",
        "test = pd.read_csv(\"/content/gdrive/My Drive/DashGC/Original/jester-v1-test.csv\", names = (\"id\", \"label\", \"frames\", \"label_id\", \"shape\", \"format\"))"
      ],
      "execution_count": 0,
      "outputs": []
    },
    {
      "cell_type": "code",
      "metadata": {
        "id": "j1FGnawvALS6",
        "colab_type": "code",
        "outputId": "240f6c8c-694b-424e-d13d-21ea98c1b4e6",
        "colab": {
          "base_uri": "https://localhost:8080/",
          "height": 34
        }
      },
      "source": [
        "# Decompress the compressed \"Jester\" dataset in Google Colab VM\n",
        "\n",
        "start = time.time()\n",
        "!cat /content/gdrive/My\\ Drive/DashGC/Original/20bn-jester-v1-* | tar -xz\n",
        "stop = time.time()\n",
        "print('Decompression took', round(((stop - start) / 60), 2), 'mins')"
      ],
      "execution_count": 0,
      "outputs": [
        {
          "output_type": "stream",
          "text": [
            "Decompression took 18.41 mins\n"
          ],
          "name": "stdout"
        }
      ]
    },
    {
      "cell_type": "code",
      "metadata": {
        "id": "hecsRHj4Qe75",
        "colab_type": "code",
        "colab": {}
      },
      "source": [
        "train[\"frames\"] = train[\"video_id\"].map(lambda a: len(os.listdir(\"/content/20bn-jester-v1/\" + str(a))))\n",
        "val[\"frames\"] = val[\"video_id\"].map(lambda a: len(os.listdir(\"/content/20bn-jester-v1/\" + str(a))))\n",
        "test[\"frames\"] = test[\"id\"].map(lambda a: len(os.listdir(\"/content/20bn-jester-v1/\" + str(a))))"
      ],
      "execution_count": 0,
      "outputs": []
    },
    {
      "cell_type": "code",
      "metadata": {
        "id": "o2a48RXPZaGj",
        "colab_type": "code",
        "colab": {}
      },
      "source": [
        "def imsize(filename):\n",
        "    filepath = \"/content/20bn-jester-v1/\" + filename\n",
        "    \n",
        "    with Image.open(filepath) as img:\n",
        "        width, height = img.size\n",
        "    \n",
        "    return (height, width)"
      ],
      "execution_count": 0,
      "outputs": []
    },
    {
      "cell_type": "code",
      "metadata": {
        "id": "5KakYMwKXfcl",
        "colab_type": "code",
        "colab": {}
      },
      "source": [
        "train[\"shape\"] = train[\"video_id\"].map(lambda d: imsize(str(d) + \"/\" + str(os.listdir(\"/content/20bn-jester-v1/\" + str(d))[0])))\n",
        "val[\"shape\"] = val[\"video_id\"].map(lambda d: imsize(str(d) + \"/\" + str(os.listdir(\"/content/20bn-jester-v1/\" + str(d))[0])))\n",
        "test[\"shape\"] = test[\"id\"].map(lambda d: imsize(str(d) + \"/\" + str(os.listdir(\"/content/20bn-jester-v1/\" + str(d))[0])))"
      ],
      "execution_count": 0,
      "outputs": []
    },
    {
      "cell_type": "code",
      "metadata": {
        "id": "20nKV5dZbIob",
        "colab_type": "code",
        "colab": {}
      },
      "source": [
        "def imformat(filename):\n",
        "    filepath = \"/content/20bn-jester-v1/\" + filename\n",
        "    \n",
        "    with Image.open(filepath) as img:\n",
        "        format = img.format\n",
        "    \n",
        "    return format"
      ],
      "execution_count": 0,
      "outputs": []
    },
    {
      "cell_type": "code",
      "metadata": {
        "id": "hOHpKo6NcI0p",
        "colab_type": "code",
        "colab": {}
      },
      "source": [
        "train[\"format\"] = train[\"video_id\"].map(lambda d: imformat(str(d) + \"/\" + str(os.listdir(\"/content/20bn-jester-v1/\" + str(d))[0])))\n",
        "val[\"format\"] = val[\"video_id\"].map(lambda d: imformat(str(d) + \"/\" + str(os.listdir(\"/content/20bn-jester-v1/\" + str(d))[0])))\n",
        "test[\"format\"] = test[\"id\"].map(lambda d: imformat(str(d) + \"/\" + str(os.listdir(\"/content/20bn-jester-v1/\" + str(d))[0])))"
      ],
      "execution_count": 0,
      "outputs": []
    },
    {
      "cell_type": "code",
      "metadata": {
        "id": "PH9xT46HDcqE",
        "colab_type": "code",
        "colab": {}
      },
      "source": [
        "label_to_index = {'Doing other things': 0, 'Drumming Fingers': 1, 'No gesture': 2, 'Pulling Hand In': 3, 'Pulling Two Fingers In': 4, 'Pushing Hand Away': 5, 'Pushing Two Fingers Away': 6, 'Rolling Hand Backward': 7, 'Rolling Hand Forward': 8, 'Shaking Hand': 9, 'Sliding Two Fingers Down': 10, 'Sliding Two Fingers Left': 11, 'Sliding Two Fingers Right': 12, 'Sliding Two Fingers Up': 13, 'Stop Sign': 14, 'Swiping Down': 15, 'Swiping Left': 16, 'Swiping Right': 17, 'Swiping Up': 18, 'Thumb Down': 19, 'Thumb Up': 20, 'Turning Hand Clockwise': 21, 'Turning Hand Counterclockwise': 22, 'Zooming In With Full Hand': 23, 'Zooming In With Two Fingers': 24, 'Zooming Out With Full Hand': 25, 'Zooming Out With Two Fingers': 26}"
      ],
      "execution_count": 0,
      "outputs": []
    },
    {
      "cell_type": "code",
      "metadata": {
        "id": "fsGe5mYkC8xK",
        "colab_type": "code",
        "colab": {}
      },
      "source": [
        "train[\"label_id\"] = train[\"label\"].map(lambda a: label_to_index[a])\n",
        "val[\"label_id\"] = val[\"label\"].map(lambda a: label_to_index[a])"
      ],
      "execution_count": 0,
      "outputs": []
    },
    {
      "cell_type": "code",
      "metadata": {
        "id": "JeJxvnsCQ7Xe",
        "colab_type": "code",
        "outputId": "51276c85-d703-438f-cb47-5eefde0c3b0b",
        "colab": {
          "base_uri": "https://localhost:8080/",
          "height": 204
        }
      },
      "source": [
        "train.sort_values(\"video_id\").head()"
      ],
      "execution_count": 0,
      "outputs": [
        {
          "output_type": "execute_result",
          "data": {
            "text/html": [
              "<div>\n",
              "<style scoped>\n",
              "    .dataframe tbody tr th:only-of-type {\n",
              "        vertical-align: middle;\n",
              "    }\n",
              "\n",
              "    .dataframe tbody tr th {\n",
              "        vertical-align: top;\n",
              "    }\n",
              "\n",
              "    .dataframe thead th {\n",
              "        text-align: right;\n",
              "    }\n",
              "</style>\n",
              "<table border=\"1\" class=\"dataframe\">\n",
              "  <thead>\n",
              "    <tr style=\"text-align: right;\">\n",
              "      <th></th>\n",
              "      <th>video_id</th>\n",
              "      <th>label</th>\n",
              "      <th>frames</th>\n",
              "      <th>label_id</th>\n",
              "      <th>shape</th>\n",
              "      <th>format</th>\n",
              "    </tr>\n",
              "  </thead>\n",
              "  <tbody>\n",
              "    <tr>\n",
              "      <th>97184</th>\n",
              "      <td>1</td>\n",
              "      <td>Doing other things</td>\n",
              "      <td>37</td>\n",
              "      <td>0</td>\n",
              "      <td>(100, 176)</td>\n",
              "      <td>JPEG</td>\n",
              "    </tr>\n",
              "    <tr>\n",
              "      <th>111045</th>\n",
              "      <td>3</td>\n",
              "      <td>Pushing Two Fingers Away</td>\n",
              "      <td>37</td>\n",
              "      <td>6</td>\n",
              "      <td>(100, 176)</td>\n",
              "      <td>JPEG</td>\n",
              "    </tr>\n",
              "    <tr>\n",
              "      <th>59351</th>\n",
              "      <td>4</td>\n",
              "      <td>Swiping Right</td>\n",
              "      <td>30</td>\n",
              "      <td>17</td>\n",
              "      <td>(100, 176)</td>\n",
              "      <td>JPEG</td>\n",
              "    </tr>\n",
              "    <tr>\n",
              "      <th>36296</th>\n",
              "      <td>5</td>\n",
              "      <td>Rolling Hand Backward</td>\n",
              "      <td>35</td>\n",
              "      <td>7</td>\n",
              "      <td>(100, 176)</td>\n",
              "      <td>JPEG</td>\n",
              "    </tr>\n",
              "    <tr>\n",
              "      <th>82397</th>\n",
              "      <td>6</td>\n",
              "      <td>Drumming Fingers</td>\n",
              "      <td>37</td>\n",
              "      <td>1</td>\n",
              "      <td>(100, 176)</td>\n",
              "      <td>JPEG</td>\n",
              "    </tr>\n",
              "  </tbody>\n",
              "</table>\n",
              "</div>"
            ],
            "text/plain": [
              "        video_id                     label  frames  label_id       shape format\n",
              "97184          1        Doing other things      37         0  (100, 176)   JPEG\n",
              "111045         3  Pushing Two Fingers Away      37         6  (100, 176)   JPEG\n",
              "59351          4             Swiping Right      30        17  (100, 176)   JPEG\n",
              "36296          5     Rolling Hand Backward      35         7  (100, 176)   JPEG\n",
              "82397          6          Drumming Fingers      37         1  (100, 176)   JPEG"
            ]
          },
          "metadata": {
            "tags": []
          },
          "execution_count": 13
        }
      ]
    },
    {
      "cell_type": "code",
      "metadata": {
        "id": "tM1aLi-eQ_oK",
        "colab_type": "code",
        "outputId": "ebc07a18-d4f9-435b-9a24-0b81c43e194d",
        "colab": {
          "base_uri": "https://localhost:8080/",
          "height": 204
        }
      },
      "source": [
        "val.sort_values(\"video_id\").head()"
      ],
      "execution_count": 0,
      "outputs": [
        {
          "output_type": "execute_result",
          "data": {
            "text/html": [
              "<div>\n",
              "<style scoped>\n",
              "    .dataframe tbody tr th:only-of-type {\n",
              "        vertical-align: middle;\n",
              "    }\n",
              "\n",
              "    .dataframe tbody tr th {\n",
              "        vertical-align: top;\n",
              "    }\n",
              "\n",
              "    .dataframe thead th {\n",
              "        text-align: right;\n",
              "    }\n",
              "</style>\n",
              "<table border=\"1\" class=\"dataframe\">\n",
              "  <thead>\n",
              "    <tr style=\"text-align: right;\">\n",
              "      <th></th>\n",
              "      <th>video_id</th>\n",
              "      <th>label</th>\n",
              "      <th>frames</th>\n",
              "      <th>label_id</th>\n",
              "      <th>shape</th>\n",
              "      <th>format</th>\n",
              "    </tr>\n",
              "  </thead>\n",
              "  <tbody>\n",
              "    <tr>\n",
              "      <th>13384</th>\n",
              "      <td>16</td>\n",
              "      <td>Thumb Down</td>\n",
              "      <td>35</td>\n",
              "      <td>19</td>\n",
              "      <td>(100, 176)</td>\n",
              "      <td>JPEG</td>\n",
              "    </tr>\n",
              "    <tr>\n",
              "      <th>4085</th>\n",
              "      <td>22</td>\n",
              "      <td>Zooming In With Full Hand</td>\n",
              "      <td>37</td>\n",
              "      <td>23</td>\n",
              "      <td>(100, 176)</td>\n",
              "      <td>JPEG</td>\n",
              "    </tr>\n",
              "    <tr>\n",
              "      <th>9273</th>\n",
              "      <td>23</td>\n",
              "      <td>Sliding Two Fingers Right</td>\n",
              "      <td>38</td>\n",
              "      <td>12</td>\n",
              "      <td>(100, 176)</td>\n",
              "      <td>JPEG</td>\n",
              "    </tr>\n",
              "    <tr>\n",
              "      <th>14519</th>\n",
              "      <td>30</td>\n",
              "      <td>Swiping Down</td>\n",
              "      <td>37</td>\n",
              "      <td>15</td>\n",
              "      <td>(100, 176)</td>\n",
              "      <td>JPEG</td>\n",
              "    </tr>\n",
              "    <tr>\n",
              "      <th>3502</th>\n",
              "      <td>35</td>\n",
              "      <td>Drumming Fingers</td>\n",
              "      <td>36</td>\n",
              "      <td>1</td>\n",
              "      <td>(100, 176)</td>\n",
              "      <td>JPEG</td>\n",
              "    </tr>\n",
              "  </tbody>\n",
              "</table>\n",
              "</div>"
            ],
            "text/plain": [
              "       video_id                      label  frames  label_id       shape format\n",
              "13384        16                 Thumb Down      35        19  (100, 176)   JPEG\n",
              "4085         22  Zooming In With Full Hand      37        23  (100, 176)   JPEG\n",
              "9273         23  Sliding Two Fingers Right      38        12  (100, 176)   JPEG\n",
              "14519        30               Swiping Down      37        15  (100, 176)   JPEG\n",
              "3502         35           Drumming Fingers      36         1  (100, 176)   JPEG"
            ]
          },
          "metadata": {
            "tags": []
          },
          "execution_count": 14
        }
      ]
    },
    {
      "cell_type": "code",
      "metadata": {
        "id": "_VOtR6pkSFx6",
        "colab_type": "code",
        "outputId": "5f3b7b7e-2af3-42a7-c496-723c4a2c0780",
        "colab": {
          "base_uri": "https://localhost:8080/",
          "height": 204
        }
      },
      "source": [
        "test.sort_values(\"id\").head()"
      ],
      "execution_count": 0,
      "outputs": [
        {
          "output_type": "execute_result",
          "data": {
            "text/html": [
              "<div>\n",
              "<style scoped>\n",
              "    .dataframe tbody tr th:only-of-type {\n",
              "        vertical-align: middle;\n",
              "    }\n",
              "\n",
              "    .dataframe tbody tr th {\n",
              "        vertical-align: top;\n",
              "    }\n",
              "\n",
              "    .dataframe thead th {\n",
              "        text-align: right;\n",
              "    }\n",
              "</style>\n",
              "<table border=\"1\" class=\"dataframe\">\n",
              "  <thead>\n",
              "    <tr style=\"text-align: right;\">\n",
              "      <th></th>\n",
              "      <th>id</th>\n",
              "      <th>label</th>\n",
              "      <th>frames</th>\n",
              "      <th>label_id</th>\n",
              "      <th>shape</th>\n",
              "      <th>format</th>\n",
              "    </tr>\n",
              "  </thead>\n",
              "  <tbody>\n",
              "    <tr>\n",
              "      <th>9742</th>\n",
              "      <td>2</td>\n",
              "      <td>NaN</td>\n",
              "      <td>37</td>\n",
              "      <td>NaN</td>\n",
              "      <td>(100, 176)</td>\n",
              "      <td>JPEG</td>\n",
              "    </tr>\n",
              "    <tr>\n",
              "      <th>117</th>\n",
              "      <td>15</td>\n",
              "      <td>NaN</td>\n",
              "      <td>33</td>\n",
              "      <td>NaN</td>\n",
              "      <td>(100, 176)</td>\n",
              "      <td>JPEG</td>\n",
              "    </tr>\n",
              "    <tr>\n",
              "      <th>12528</th>\n",
              "      <td>18</td>\n",
              "      <td>NaN</td>\n",
              "      <td>32</td>\n",
              "      <td>NaN</td>\n",
              "      <td>(100, 176)</td>\n",
              "      <td>JPEG</td>\n",
              "    </tr>\n",
              "    <tr>\n",
              "      <th>13234</th>\n",
              "      <td>21</td>\n",
              "      <td>NaN</td>\n",
              "      <td>37</td>\n",
              "      <td>NaN</td>\n",
              "      <td>(100, 176)</td>\n",
              "      <td>JPEG</td>\n",
              "    </tr>\n",
              "    <tr>\n",
              "      <th>12684</th>\n",
              "      <td>32</td>\n",
              "      <td>NaN</td>\n",
              "      <td>36</td>\n",
              "      <td>NaN</td>\n",
              "      <td>(100, 176)</td>\n",
              "      <td>JPEG</td>\n",
              "    </tr>\n",
              "  </tbody>\n",
              "</table>\n",
              "</div>"
            ],
            "text/plain": [
              "       id  label  frames  label_id       shape format\n",
              "9742    2    NaN      37       NaN  (100, 176)   JPEG\n",
              "117    15    NaN      33       NaN  (100, 176)   JPEG\n",
              "12528  18    NaN      32       NaN  (100, 176)   JPEG\n",
              "13234  21    NaN      37       NaN  (100, 176)   JPEG\n",
              "12684  32    NaN      36       NaN  (100, 176)   JPEG"
            ]
          },
          "metadata": {
            "tags": []
          },
          "execution_count": 15
        }
      ]
    },
    {
      "cell_type": "code",
      "metadata": {
        "id": "I2GaM9DI808S",
        "colab_type": "code",
        "outputId": "4e04467c-03b1-4087-f3ec-58c3d11e08d7",
        "colab": {
          "base_uri": "https://localhost:8080/",
          "height": 297
        }
      },
      "source": [
        "train.describe()"
      ],
      "execution_count": 0,
      "outputs": [
        {
          "output_type": "execute_result",
          "data": {
            "text/html": [
              "<div>\n",
              "<style scoped>\n",
              "    .dataframe tbody tr th:only-of-type {\n",
              "        vertical-align: middle;\n",
              "    }\n",
              "\n",
              "    .dataframe tbody tr th {\n",
              "        vertical-align: top;\n",
              "    }\n",
              "\n",
              "    .dataframe thead th {\n",
              "        text-align: right;\n",
              "    }\n",
              "</style>\n",
              "<table border=\"1\" class=\"dataframe\">\n",
              "  <thead>\n",
              "    <tr style=\"text-align: right;\">\n",
              "      <th></th>\n",
              "      <th>video_id</th>\n",
              "      <th>frames</th>\n",
              "      <th>label_id</th>\n",
              "    </tr>\n",
              "  </thead>\n",
              "  <tbody>\n",
              "    <tr>\n",
              "      <th>count</th>\n",
              "      <td>118562.000000</td>\n",
              "      <td>118562.000000</td>\n",
              "      <td>118562.000000</td>\n",
              "    </tr>\n",
              "    <tr>\n",
              "      <th>mean</th>\n",
              "      <td>74014.563663</td>\n",
              "      <td>35.586023</td>\n",
              "      <td>12.283000</td>\n",
              "    </tr>\n",
              "    <tr>\n",
              "      <th>std</th>\n",
              "      <td>42788.066743</td>\n",
              "      <td>2.355016</td>\n",
              "      <td>8.073005</td>\n",
              "    </tr>\n",
              "    <tr>\n",
              "      <th>min</th>\n",
              "      <td>1.000000</td>\n",
              "      <td>12.000000</td>\n",
              "      <td>0.000000</td>\n",
              "    </tr>\n",
              "    <tr>\n",
              "      <th>25%</th>\n",
              "      <td>36858.250000</td>\n",
              "      <td>35.000000</td>\n",
              "      <td>5.000000</td>\n",
              "    </tr>\n",
              "    <tr>\n",
              "      <th>50%</th>\n",
              "      <td>74009.500000</td>\n",
              "      <td>36.000000</td>\n",
              "      <td>12.000000</td>\n",
              "    </tr>\n",
              "    <tr>\n",
              "      <th>75%</th>\n",
              "      <td>111111.500000</td>\n",
              "      <td>37.000000</td>\n",
              "      <td>19.000000</td>\n",
              "    </tr>\n",
              "    <tr>\n",
              "      <th>max</th>\n",
              "      <td>148092.000000</td>\n",
              "      <td>70.000000</td>\n",
              "      <td>26.000000</td>\n",
              "    </tr>\n",
              "  </tbody>\n",
              "</table>\n",
              "</div>"
            ],
            "text/plain": [
              "            video_id         frames       label_id\n",
              "count  118562.000000  118562.000000  118562.000000\n",
              "mean    74014.563663      35.586023      12.283000\n",
              "std     42788.066743       2.355016       8.073005\n",
              "min         1.000000      12.000000       0.000000\n",
              "25%     36858.250000      35.000000       5.000000\n",
              "50%     74009.500000      36.000000      12.000000\n",
              "75%    111111.500000      37.000000      19.000000\n",
              "max    148092.000000      70.000000      26.000000"
            ]
          },
          "metadata": {
            "tags": []
          },
          "execution_count": 16
        }
      ]
    },
    {
      "cell_type": "code",
      "metadata": {
        "id": "580HRl-99hM6",
        "colab_type": "code",
        "outputId": "a692d320-4cb5-4c9f-88d9-7b1b90279372",
        "colab": {
          "base_uri": "https://localhost:8080/",
          "height": 297
        }
      },
      "source": [
        "val.describe()"
      ],
      "execution_count": 0,
      "outputs": [
        {
          "output_type": "execute_result",
          "data": {
            "text/html": [
              "<div>\n",
              "<style scoped>\n",
              "    .dataframe tbody tr th:only-of-type {\n",
              "        vertical-align: middle;\n",
              "    }\n",
              "\n",
              "    .dataframe tbody tr th {\n",
              "        vertical-align: top;\n",
              "    }\n",
              "\n",
              "    .dataframe thead th {\n",
              "        text-align: right;\n",
              "    }\n",
              "</style>\n",
              "<table border=\"1\" class=\"dataframe\">\n",
              "  <thead>\n",
              "    <tr style=\"text-align: right;\">\n",
              "      <th></th>\n",
              "      <th>video_id</th>\n",
              "      <th>frames</th>\n",
              "      <th>label_id</th>\n",
              "    </tr>\n",
              "  </thead>\n",
              "  <tbody>\n",
              "    <tr>\n",
              "      <th>count</th>\n",
              "      <td>14787.000000</td>\n",
              "      <td>14787.000000</td>\n",
              "      <td>14787.000000</td>\n",
              "    </tr>\n",
              "    <tr>\n",
              "      <th>mean</th>\n",
              "      <td>74259.369987</td>\n",
              "      <td>36.016636</td>\n",
              "      <td>12.003517</td>\n",
              "    </tr>\n",
              "    <tr>\n",
              "      <th>std</th>\n",
              "      <td>42597.398716</td>\n",
              "      <td>1.859350</td>\n",
              "      <td>8.173950</td>\n",
              "    </tr>\n",
              "    <tr>\n",
              "      <th>min</th>\n",
              "      <td>16.000000</td>\n",
              "      <td>13.000000</td>\n",
              "      <td>0.000000</td>\n",
              "    </tr>\n",
              "    <tr>\n",
              "      <th>25%</th>\n",
              "      <td>37732.000000</td>\n",
              "      <td>36.000000</td>\n",
              "      <td>5.000000</td>\n",
              "    </tr>\n",
              "    <tr>\n",
              "      <th>50%</th>\n",
              "      <td>74275.000000</td>\n",
              "      <td>37.000000</td>\n",
              "      <td>12.000000</td>\n",
              "    </tr>\n",
              "    <tr>\n",
              "      <th>75%</th>\n",
              "      <td>111037.500000</td>\n",
              "      <td>37.000000</td>\n",
              "      <td>19.000000</td>\n",
              "    </tr>\n",
              "    <tr>\n",
              "      <th>max</th>\n",
              "      <td>148080.000000</td>\n",
              "      <td>67.000000</td>\n",
              "      <td>26.000000</td>\n",
              "    </tr>\n",
              "  </tbody>\n",
              "</table>\n",
              "</div>"
            ],
            "text/plain": [
              "            video_id        frames      label_id\n",
              "count   14787.000000  14787.000000  14787.000000\n",
              "mean    74259.369987     36.016636     12.003517\n",
              "std     42597.398716      1.859350      8.173950\n",
              "min        16.000000     13.000000      0.000000\n",
              "25%     37732.000000     36.000000      5.000000\n",
              "50%     74275.000000     37.000000     12.000000\n",
              "75%    111037.500000     37.000000     19.000000\n",
              "max    148080.000000     67.000000     26.000000"
            ]
          },
          "metadata": {
            "tags": []
          },
          "execution_count": 17
        }
      ]
    },
    {
      "cell_type": "code",
      "metadata": {
        "id": "IawS52H29jHH",
        "colab_type": "code",
        "outputId": "af7cd050-512a-44ad-a224-7dfa573a87ba",
        "colab": {
          "base_uri": "https://localhost:8080/",
          "height": 297
        }
      },
      "source": [
        "test.describe()"
      ],
      "execution_count": 0,
      "outputs": [
        {
          "output_type": "execute_result",
          "data": {
            "text/html": [
              "<div>\n",
              "<style scoped>\n",
              "    .dataframe tbody tr th:only-of-type {\n",
              "        vertical-align: middle;\n",
              "    }\n",
              "\n",
              "    .dataframe tbody tr th {\n",
              "        vertical-align: top;\n",
              "    }\n",
              "\n",
              "    .dataframe thead th {\n",
              "        text-align: right;\n",
              "    }\n",
              "</style>\n",
              "<table border=\"1\" class=\"dataframe\">\n",
              "  <thead>\n",
              "    <tr style=\"text-align: right;\">\n",
              "      <th></th>\n",
              "      <th>id</th>\n",
              "      <th>label</th>\n",
              "      <th>frames</th>\n",
              "      <th>label_id</th>\n",
              "    </tr>\n",
              "  </thead>\n",
              "  <tbody>\n",
              "    <tr>\n",
              "      <th>count</th>\n",
              "      <td>14743.000000</td>\n",
              "      <td>0.0</td>\n",
              "      <td>14743.000000</td>\n",
              "      <td>0.0</td>\n",
              "    </tr>\n",
              "    <tr>\n",
              "      <th>mean</th>\n",
              "      <td>74089.824120</td>\n",
              "      <td>NaN</td>\n",
              "      <td>35.803636</td>\n",
              "      <td>NaN</td>\n",
              "    </tr>\n",
              "    <tr>\n",
              "      <th>std</th>\n",
              "      <td>42604.755169</td>\n",
              "      <td>NaN</td>\n",
              "      <td>2.250138</td>\n",
              "      <td>NaN</td>\n",
              "    </tr>\n",
              "    <tr>\n",
              "      <th>min</th>\n",
              "      <td>2.000000</td>\n",
              "      <td>NaN</td>\n",
              "      <td>13.000000</td>\n",
              "      <td>NaN</td>\n",
              "    </tr>\n",
              "    <tr>\n",
              "      <th>25%</th>\n",
              "      <td>37441.000000</td>\n",
              "      <td>NaN</td>\n",
              "      <td>35.000000</td>\n",
              "      <td>NaN</td>\n",
              "    </tr>\n",
              "    <tr>\n",
              "      <th>50%</th>\n",
              "      <td>74177.000000</td>\n",
              "      <td>NaN</td>\n",
              "      <td>37.000000</td>\n",
              "      <td>NaN</td>\n",
              "    </tr>\n",
              "    <tr>\n",
              "      <th>75%</th>\n",
              "      <td>110787.500000</td>\n",
              "      <td>NaN</td>\n",
              "      <td>37.000000</td>\n",
              "      <td>NaN</td>\n",
              "    </tr>\n",
              "    <tr>\n",
              "      <th>max</th>\n",
              "      <td>148087.000000</td>\n",
              "      <td>NaN</td>\n",
              "      <td>46.000000</td>\n",
              "      <td>NaN</td>\n",
              "    </tr>\n",
              "  </tbody>\n",
              "</table>\n",
              "</div>"
            ],
            "text/plain": [
              "                  id  label        frames  label_id\n",
              "count   14743.000000    0.0  14743.000000       0.0\n",
              "mean    74089.824120    NaN     35.803636       NaN\n",
              "std     42604.755169    NaN      2.250138       NaN\n",
              "min         2.000000    NaN     13.000000       NaN\n",
              "25%     37441.000000    NaN     35.000000       NaN\n",
              "50%     74177.000000    NaN     37.000000       NaN\n",
              "75%    110787.500000    NaN     37.000000       NaN\n",
              "max    148087.000000    NaN     46.000000       NaN"
            ]
          },
          "metadata": {
            "tags": []
          },
          "execution_count": 18
        }
      ]
    },
    {
      "cell_type": "code",
      "metadata": {
        "id": "rzh0Ah-QVXQ1",
        "colab_type": "code",
        "outputId": "5cf17e09-4140-432d-9595-94cee6bdb9ac",
        "colab": {
          "base_uri": "https://localhost:8080/",
          "height": 51
        }
      },
      "source": [
        "train[\"shape\"].unique()"
      ],
      "execution_count": 0,
      "outputs": [
        {
          "output_type": "execute_result",
          "data": {
            "text/plain": [
              "array([(100, 176), (100, 132), (100, 100), (100, 142), (100, 106),\n",
              "       (100, 122), (100, 172)], dtype=object)"
            ]
          },
          "metadata": {
            "tags": []
          },
          "execution_count": 19
        }
      ]
    },
    {
      "cell_type": "code",
      "metadata": {
        "id": "UFwbF7bQVwrQ",
        "colab_type": "code",
        "outputId": "15938b21-7164-4da8-d77f-a87435c7aab0",
        "colab": {
          "base_uri": "https://localhost:8080/",
          "height": 34
        }
      },
      "source": [
        "train[\"format\"].unique()"
      ],
      "execution_count": 0,
      "outputs": [
        {
          "output_type": "execute_result",
          "data": {
            "text/plain": [
              "array(['JPEG'], dtype=object)"
            ]
          },
          "metadata": {
            "tags": []
          },
          "execution_count": 20
        }
      ]
    },
    {
      "cell_type": "code",
      "metadata": {
        "id": "39c2-cNaVzu4",
        "colab_type": "code",
        "outputId": "6976804a-e7a8-4ce9-dc34-b63304d4a598",
        "colab": {
          "base_uri": "https://localhost:8080/",
          "height": 51
        }
      },
      "source": [
        "val[\"shape\"].unique()"
      ],
      "execution_count": 0,
      "outputs": [
        {
          "output_type": "execute_result",
          "data": {
            "text/plain": [
              "array([(100, 132), (100, 176), (100, 100), (100, 142), (100, 122)],\n",
              "      dtype=object)"
            ]
          },
          "metadata": {
            "tags": []
          },
          "execution_count": 21
        }
      ]
    },
    {
      "cell_type": "code",
      "metadata": {
        "id": "guuRF3LAV3Bz",
        "colab_type": "code",
        "outputId": "9e9a0450-6cd0-4ae7-a0d1-96be1e24b9a9",
        "colab": {
          "base_uri": "https://localhost:8080/",
          "height": 34
        }
      },
      "source": [
        "val[\"format\"].unique()"
      ],
      "execution_count": 0,
      "outputs": [
        {
          "output_type": "execute_result",
          "data": {
            "text/plain": [
              "array(['JPEG'], dtype=object)"
            ]
          },
          "metadata": {
            "tags": []
          },
          "execution_count": 22
        }
      ]
    },
    {
      "cell_type": "code",
      "metadata": {
        "id": "NIzvcWRPV8Q0",
        "colab_type": "code",
        "outputId": "e8db4599-6de3-46a9-86f6-7a81486547b0",
        "colab": {
          "base_uri": "https://localhost:8080/",
          "height": 34
        }
      },
      "source": [
        "test[\"shape\"].unique()"
      ],
      "execution_count": 0,
      "outputs": [
        {
          "output_type": "execute_result",
          "data": {
            "text/plain": [
              "array([(100, 176), (100, 132), (100, 100), (100, 160)], dtype=object)"
            ]
          },
          "metadata": {
            "tags": []
          },
          "execution_count": 23
        }
      ]
    },
    {
      "cell_type": "code",
      "metadata": {
        "id": "1MbjltrpV_01",
        "colab_type": "code",
        "outputId": "93b715f4-8956-4023-f8f7-4fdce23ff330",
        "colab": {
          "base_uri": "https://localhost:8080/",
          "height": 34
        }
      },
      "source": [
        "test[\"format\"].unique()"
      ],
      "execution_count": 0,
      "outputs": [
        {
          "output_type": "execute_result",
          "data": {
            "text/plain": [
              "array(['JPEG'], dtype=object)"
            ]
          },
          "metadata": {
            "tags": []
          },
          "execution_count": 24
        }
      ]
    },
    {
      "cell_type": "code",
      "metadata": {
        "id": "9I-dpnIESHAi",
        "colab_type": "code",
        "colab": {}
      },
      "source": [
        "train.sort_values(\"video_id\").to_csv(\"/content/gdrive/My Drive/DashGC/Reorganized/Train.csv\", sep = \",\", index = False, encoding = \"utf-8\")\n",
        "val.sort_values(\"video_id\").to_csv(\"/content/gdrive/My Drive/DashGC/Reorganized/Validation.csv\", sep = \",\", index = False, encoding = \"utf-8\")\n",
        "test.sort_values(\"id\").to_csv(\"/content/gdrive/My Drive/DashGC/Reorganized/Test.csv\", sep = \",\", index = False, encoding = \"utf-8\")"
      ],
      "execution_count": 0,
      "outputs": []
    },
    {
      "cell_type": "code",
      "metadata": {
        "id": "4gA4RyJIn_7z",
        "colab_type": "code",
        "outputId": "86d246a6-5ac3-40f8-dcf9-2d1d90220234",
        "colab": {
          "base_uri": "https://localhost:8080/",
          "height": 510
        }
      },
      "source": [
        "train.groupby(by = \"label\").size()"
      ],
      "execution_count": 0,
      "outputs": [
        {
          "output_type": "execute_result",
          "data": {
            "text/plain": [
              "label\n",
              "Doing other things               9592\n",
              "Drumming Fingers                 4371\n",
              "No gesture                       4278\n",
              "Pulling Hand In                  4323\n",
              "Pulling Two Fingers In           4267\n",
              "Pushing Hand Away                4357\n",
              "Pushing Two Fingers Away         4291\n",
              "Rolling Hand Backward            4032\n",
              "Rolling Hand Forward             4132\n",
              "Shaking Hand                     4258\n",
              "Sliding Two Fingers Down         4348\n",
              "Sliding Two Fingers Left         4292\n",
              "Sliding Two Fingers Right        4206\n",
              "Sliding Two Fingers Up           4219\n",
              "Stop Sign                        4337\n",
              "Swiping Down                     4259\n",
              "Swiping Left                     4162\n",
              "Swiping Right                    4084\n",
              "Swiping Up                       4220\n",
              "Thumb Down                       4390\n",
              "Thumb Up                         4373\n",
              "Turning Hand Clockwise           3216\n",
              "Turning Hand Counterclockwise    3398\n",
              "Zooming In With Full Hand        4251\n",
              "Zooming In With Two Fingers      4302\n",
              "Zooming Out With Full Hand       4281\n",
              "Zooming Out With Two Fingers     4323\n",
              "dtype: int64"
            ]
          },
          "metadata": {
            "tags": []
          },
          "execution_count": 26
        }
      ]
    },
    {
      "cell_type": "code",
      "metadata": {
        "id": "gCkZqCo_oHf1",
        "colab_type": "code",
        "outputId": "466fdfbe-00f5-4e9d-f5b5-d318fccca210",
        "colab": {
          "base_uri": "https://localhost:8080/",
          "height": 510
        }
      },
      "source": [
        "val.groupby(by = \"label\").size()"
      ],
      "execution_count": 0,
      "outputs": [
        {
          "output_type": "execute_result",
          "data": {
            "text/plain": [
              "label\n",
              "Doing other things               1468\n",
              "Drumming Fingers                  535\n",
              "No gesture                        533\n",
              "Pulling Hand In                   526\n",
              "Pulling Two Fingers In            519\n",
              "Pushing Hand Away                 538\n",
              "Pushing Two Fingers Away          531\n",
              "Rolling Hand Backward             493\n",
              "Rolling Hand Forward              521\n",
              "Shaking Hand                      528\n",
              "Sliding Two Fingers Down          531\n",
              "Sliding Two Fingers Left          519\n",
              "Sliding Two Fingers Right         516\n",
              "Sliding Two Fingers Up            522\n",
              "Stop Sign                         536\n",
              "Swiping Down                      520\n",
              "Swiping Left                      494\n",
              "Swiping Right                     486\n",
              "Swiping Up                        508\n",
              "Thumb Down                        536\n",
              "Thumb Up                          539\n",
              "Turning Hand Clockwise            385\n",
              "Turning Hand Counterclockwise     399\n",
              "Zooming In With Full Hand         526\n",
              "Zooming In With Two Fingers       522\n",
              "Zooming Out With Full Hand        526\n",
              "Zooming Out With Two Fingers      530\n",
              "dtype: int64"
            ]
          },
          "metadata": {
            "tags": []
          },
          "execution_count": 27
        }
      ]
    },
    {
      "cell_type": "code",
      "metadata": {
        "id": "MrxgQUzghvO3",
        "colab_type": "code",
        "outputId": "59580564-22a8-4aae-d87e-aa42e11efd72",
        "colab": {
          "base_uri": "https://localhost:8080/",
          "height": 448
        }
      },
      "source": [
        "train.groupby(by = \"label\").size().plot.bar()"
      ],
      "execution_count": 0,
      "outputs": [
        {
          "output_type": "execute_result",
          "data": {
            "text/plain": [
              "<matplotlib.axes._subplots.AxesSubplot at 0x7f8b3f8aec88>"
            ]
          },
          "metadata": {
            "tags": []
          },
          "execution_count": 28
        },
        {
          "output_type": "display_data",
          "data": {
            "image/png": "[encoded data removed]",
            "text/plain": [
              "<Figure size 432x288 with 1 Axes>"
            ]
          },
          "metadata": {
            "tags": []
          }
        }
      ]
    },
    {
      "cell_type": "code",
      "metadata": {
        "id": "li15sf_Ih0zt",
        "colab_type": "code",
        "outputId": "1bb199cf-b1ce-4c15-dca5-e13151f8593d",
        "colab": {
          "base_uri": "https://localhost:8080/",
          "height": 445
        }
      },
      "source": [
        "val.groupby(by = \"label\").size().plot.bar()"
      ],
      "execution_count": 0,
      "outputs": [
        {
          "output_type": "execute_result",
          "data": {
            "text/plain": [
              "<matplotlib.axes._subplots.AxesSubplot at 0x7f8b3f0ee048>"
            ]
          },
          "metadata": {
            "tags": []
          },
          "execution_count": 29
        },
        {
          "output_type": "display_data",
          "data": {
            "image/png": "[encoded data removed]",
            "text/plain": [
              "<Figure size 432x288 with 1 Axes>"
            ]
          },
          "metadata": {
            "tags": []
          }
        }
      ]
    },
    {
      "cell_type": "code",
      "metadata": {
        "id": "99L6R_XGoOTY",
        "colab_type": "code",
        "outputId": "75eb1604-fe72-4077-99ef-6b218150cdd6",
        "colab": {
          "base_uri": "https://localhost:8080/",
          "height": 850
        }
      },
      "source": [
        "train.groupby(by = \"frames\").size()"
      ],
      "execution_count": 0,
      "outputs": [
        {
          "output_type": "execute_result",
          "data": {
            "text/plain": [
              "frames\n",
              "12        2\n",
              "13        6\n",
              "14        2\n",
              "15        5\n",
              "16        4\n",
              "17        5\n",
              "18        7\n",
              "19       55\n",
              "20       45\n",
              "21       39\n",
              "22      103\n",
              "23      542\n",
              "24      184\n",
              "25      247\n",
              "26      202\n",
              "27      157\n",
              "28      284\n",
              "29      419\n",
              "30      795\n",
              "31     1704\n",
              "32     5305\n",
              "33     9702\n",
              "34     9122\n",
              "35     9375\n",
              "36    22567\n",
              "37    50420\n",
              "38     6135\n",
              "39      820\n",
              "40      153\n",
              "41       43\n",
              "42       30\n",
              "43       12\n",
              "44       15\n",
              "45       14\n",
              "46       10\n",
              "47        8\n",
              "48        7\n",
              "49        3\n",
              "50        3\n",
              "51        3\n",
              "53        1\n",
              "54        1\n",
              "56        2\n",
              "62        1\n",
              "63        1\n",
              "69        1\n",
              "70        1\n",
              "dtype: int64"
            ]
          },
          "metadata": {
            "tags": []
          },
          "execution_count": 30
        }
      ]
    },
    {
      "cell_type": "code",
      "metadata": {
        "id": "LZtZsf-01tiT",
        "colab_type": "code",
        "outputId": "0c9ff5b3-358f-4ac6-e599-a39ca07fd747",
        "colab": {
          "base_uri": "https://localhost:8080/",
          "height": 595
        }
      },
      "source": [
        "val.groupby(by = \"frames\").size()"
      ],
      "execution_count": 0,
      "outputs": [
        {
          "output_type": "execute_result",
          "data": {
            "text/plain": [
              "frames\n",
              "13       1\n",
              "14       1\n",
              "20       2\n",
              "21       2\n",
              "22       2\n",
              "23      13\n",
              "24      22\n",
              "25       1\n",
              "26       8\n",
              "27       3\n",
              "28      14\n",
              "29      23\n",
              "30      74\n",
              "31     120\n",
              "32     491\n",
              "33     822\n",
              "34     827\n",
              "35    1113\n",
              "36    3143\n",
              "37    7047\n",
              "38     933\n",
              "39      88\n",
              "40      15\n",
              "41       4\n",
              "42       7\n",
              "43       1\n",
              "44       4\n",
              "46       2\n",
              "49       1\n",
              "51       1\n",
              "65       1\n",
              "67       1\n",
              "dtype: int64"
            ]
          },
          "metadata": {
            "tags": []
          },
          "execution_count": 31
        }
      ]
    },
    {
      "cell_type": "code",
      "metadata": {
        "id": "DqhZ6RI013qg",
        "colab_type": "code",
        "outputId": "233d7b82-0aee-4fe2-ff9f-746a0ca58b25",
        "colab": {
          "base_uri": "https://localhost:8080/",
          "height": 595
        }
      },
      "source": [
        "test.groupby(by = \"frames\").size()"
      ],
      "execution_count": 0,
      "outputs": [
        {
          "output_type": "execute_result",
          "data": {
            "text/plain": [
              "frames\n",
              "13       2\n",
              "14      10\n",
              "15       4\n",
              "16       7\n",
              "17       3\n",
              "18       2\n",
              "19       1\n",
              "21       5\n",
              "22       7\n",
              "23      28\n",
              "24      41\n",
              "25      16\n",
              "26       6\n",
              "27      14\n",
              "28      54\n",
              "29      33\n",
              "30      79\n",
              "31     176\n",
              "32     489\n",
              "33    1031\n",
              "34     854\n",
              "35    1040\n",
              "36    3003\n",
              "37    6981\n",
              "38     740\n",
              "39      86\n",
              "40      14\n",
              "42       4\n",
              "43       3\n",
              "44       4\n",
              "45       2\n",
              "46       4\n",
              "dtype: int64"
            ]
          },
          "metadata": {
            "tags": []
          },
          "execution_count": 32
        }
      ]
    },
    {
      "cell_type": "code",
      "metadata": {
        "id": "HoVa_nkk15LC",
        "colab_type": "code",
        "outputId": "688f065d-1737-4e34-9e1d-76f1f8b413ab",
        "colab": {
          "base_uri": "https://localhost:8080/",
          "height": 299
        }
      },
      "source": [
        "train.groupby(by = \"frames\").size().plot.bar()"
      ],
      "execution_count": 0,
      "outputs": [
        {
          "output_type": "execute_result",
          "data": {
            "text/plain": [
              "<matplotlib.axes._subplots.AxesSubplot at 0x7f8b3f967358>"
            ]
          },
          "metadata": {
            "tags": []
          },
          "execution_count": 33
        },
        {
          "output_type": "display_data",
          "data": {
            "image/png": "[encoded data removed]",
            "text/plain": [
              "<Figure size 432x288 with 1 Axes>"
            ]
          },
          "metadata": {
            "tags": []
          }
        }
      ]
    },
    {
      "cell_type": "code",
      "metadata": {
        "id": "avQ2ukd44bxp",
        "colab_type": "code",
        "outputId": "0a8d46fa-74ba-4bf6-dbaf-207f70626e52",
        "colab": {
          "base_uri": "https://localhost:8080/",
          "height": 299
        }
      },
      "source": [
        "val.groupby(by = \"frames\").size().plot.bar()"
      ],
      "execution_count": 0,
      "outputs": [
        {
          "output_type": "execute_result",
          "data": {
            "text/plain": [
              "<matplotlib.axes._subplots.AxesSubplot at 0x7f8b3ea630f0>"
            ]
          },
          "metadata": {
            "tags": []
          },
          "execution_count": 34
        },
        {
          "output_type": "display_data",
          "data": {
            "image/png": "[encoded data removed]",
            "text/plain": [
              "<Figure size 432x288 with 1 Axes>"
            ]
          },
          "metadata": {
            "tags": []
          }
        }
      ]
    },
    {
      "cell_type": "code",
      "metadata": {
        "id": "ca1AZz9g4hyd",
        "colab_type": "code",
        "outputId": "dbb77ddd-1fd8-4cd7-bd60-8784efa6e69a",
        "colab": {
          "base_uri": "https://localhost:8080/",
          "height": 299
        }
      },
      "source": [
        "test.groupby(by = \"frames\").size().plot.bar()"
      ],
      "execution_count": 0,
      "outputs": [
        {
          "output_type": "execute_result",
          "data": {
            "text/plain": [
              "<matplotlib.axes._subplots.AxesSubplot at 0x7f8b3e954b70>"
            ]
          },
          "metadata": {
            "tags": []
          },
          "execution_count": 35
        },
        {
          "output_type": "display_data",
          "data": {
            "image/png": "[encoded data removed]",
            "text/plain": [
              "<Figure size 432x288 with 1 Axes>"
            ]
          },
          "metadata": {
            "tags": []
          }
        }
      ]
    },
    {
      "cell_type": "code",
      "metadata": {
        "id": "51SYVmzT9Mbj",
        "colab_type": "code",
        "outputId": "4eb76e64-bdca-48fb-d984-8e9c312bd2c2",
        "colab": {
          "base_uri": "https://localhost:8080/",
          "height": 170
        }
      },
      "source": [
        "train.groupby(by = \"frames\").size().describe()"
      ],
      "execution_count": 0,
      "outputs": [
        {
          "output_type": "execute_result",
          "data": {
            "text/plain": [
              "count       47.000000\n",
              "mean      2522.595745\n",
              "std       8193.762351\n",
              "min          1.000000\n",
              "25%          3.500000\n",
              "50%         30.000000\n",
              "75%        351.500000\n",
              "max      50420.000000\n",
              "dtype: float64"
            ]
          },
          "metadata": {
            "tags": []
          },
          "execution_count": 36
        }
      ]
    },
    {
      "cell_type": "code",
      "metadata": {
        "id": "pm4XUrhr-aBO",
        "colab_type": "code",
        "outputId": "9402f50e-e970-4ca0-b61d-799e0319d3c5",
        "colab": {
          "base_uri": "https://localhost:8080/",
          "height": 170
        }
      },
      "source": [
        "val.groupby(by = \"frames\").size().describe()"
      ],
      "execution_count": 0,
      "outputs": [
        {
          "output_type": "execute_result",
          "data": {
            "text/plain": [
              "count      32.000000\n",
              "mean      462.093750\n",
              "std      1349.372981\n",
              "min         1.000000\n",
              "25%         1.750000\n",
              "50%         7.500000\n",
              "75%        96.000000\n",
              "max      7047.000000\n",
              "dtype: float64"
            ]
          },
          "metadata": {
            "tags": []
          },
          "execution_count": 37
        }
      ]
    },
    {
      "cell_type": "code",
      "metadata": {
        "id": "ZEe0EEvg-elp",
        "colab_type": "code",
        "outputId": "b193614d-d696-47d3-a72c-1dfa775cb2c8",
        "colab": {
          "base_uri": "https://localhost:8080/",
          "height": 170
        }
      },
      "source": [
        "test.groupby(by = \"frames\").size().describe()"
      ],
      "execution_count": 0,
      "outputs": [
        {
          "output_type": "execute_result",
          "data": {
            "text/plain": [
              "count      32.000000\n",
              "mean      460.718750\n",
              "std      1328.019098\n",
              "min         1.000000\n",
              "25%         4.000000\n",
              "50%        14.000000\n",
              "75%       108.500000\n",
              "max      6981.000000\n",
              "dtype: float64"
            ]
          },
          "metadata": {
            "tags": []
          },
          "execution_count": 38
        }
      ]
    },
    {
      "cell_type": "code",
      "metadata": {
        "id": "1roRCcJ_Ctih",
        "colab_type": "code",
        "outputId": "02147ae7-9550-4d1c-c146-dd78a0ba9123",
        "colab": {
          "base_uri": "https://localhost:8080/",
          "height": 204
        }
      },
      "source": [
        "val.sort_values(\"video_id\").head()"
      ],
      "execution_count": 0,
      "outputs": [
        {
          "output_type": "execute_result",
          "data": {
            "text/html": [
              "<div>\n",
              "<style scoped>\n",
              "    .dataframe tbody tr th:only-of-type {\n",
              "        vertical-align: middle;\n",
              "    }\n",
              "\n",
              "    .dataframe tbody tr th {\n",
              "        vertical-align: top;\n",
              "    }\n",
              "\n",
              "    .dataframe thead th {\n",
              "        text-align: right;\n",
              "    }\n",
              "</style>\n",
              "<table border=\"1\" class=\"dataframe\">\n",
              "  <thead>\n",
              "    <tr style=\"text-align: right;\">\n",
              "      <th></th>\n",
              "      <th>video_id</th>\n",
              "      <th>label</th>\n",
              "      <th>frames</th>\n",
              "      <th>label_id</th>\n",
              "      <th>shape</th>\n",
              "      <th>format</th>\n",
              "    </tr>\n",
              "  </thead>\n",
              "  <tbody>\n",
              "    <tr>\n",
              "      <th>13384</th>\n",
              "      <td>16</td>\n",
              "      <td>Thumb Down</td>\n",
              "      <td>35</td>\n",
              "      <td>19</td>\n",
              "      <td>(100, 176)</td>\n",
              "      <td>JPEG</td>\n",
              "    </tr>\n",
              "    <tr>\n",
              "      <th>4085</th>\n",
              "      <td>22</td>\n",
              "      <td>Zooming In With Full Hand</td>\n",
              "      <td>37</td>\n",
              "      <td>23</td>\n",
              "      <td>(100, 176)</td>\n",
              "      <td>JPEG</td>\n",
              "    </tr>\n",
              "    <tr>\n",
              "      <th>9273</th>\n",
              "      <td>23</td>\n",
              "      <td>Sliding Two Fingers Right</td>\n",
              "      <td>38</td>\n",
              "      <td>12</td>\n",
              "      <td>(100, 176)</td>\n",
              "      <td>JPEG</td>\n",
              "    </tr>\n",
              "    <tr>\n",
              "      <th>14519</th>\n",
              "      <td>30</td>\n",
              "      <td>Swiping Down</td>\n",
              "      <td>37</td>\n",
              "      <td>15</td>\n",
              "      <td>(100, 176)</td>\n",
              "      <td>JPEG</td>\n",
              "    </tr>\n",
              "    <tr>\n",
              "      <th>3502</th>\n",
              "      <td>35</td>\n",
              "      <td>Drumming Fingers</td>\n",
              "      <td>36</td>\n",
              "      <td>1</td>\n",
              "      <td>(100, 176)</td>\n",
              "      <td>JPEG</td>\n",
              "    </tr>\n",
              "  </tbody>\n",
              "</table>\n",
              "</div>"
            ],
            "text/plain": [
              "       video_id                      label  frames  label_id       shape format\n",
              "13384        16                 Thumb Down      35        19  (100, 176)   JPEG\n",
              "4085         22  Zooming In With Full Hand      37        23  (100, 176)   JPEG\n",
              "9273         23  Sliding Two Fingers Right      38        12  (100, 176)   JPEG\n",
              "14519        30               Swiping Down      37        15  (100, 176)   JPEG\n",
              "3502         35           Drumming Fingers      36         1  (100, 176)   JPEG"
            ]
          },
          "metadata": {
            "tags": []
          },
          "execution_count": 39
        }
      ]
    },
    {
      "cell_type": "code",
      "metadata": {
        "id": "QNyviblUQiU7",
        "colab_type": "code",
        "outputId": "254aad40-23ff-477f-c32e-ae4bff660bb6",
        "colab": {
          "base_uri": "https://localhost:8080/",
          "height": 102
        }
      },
      "source": [
        "val.sort_values(\"video_id\").head().to_numpy()"
      ],
      "execution_count": 0,
      "outputs": [
        {
          "output_type": "execute_result",
          "data": {
            "text/plain": [
              "array([[16, 'Thumb Down', 35, 19, (100, 176), 'JPEG'],\n",
              "       [22, 'Zooming In With Full Hand', 37, 23, (100, 176), 'JPEG'],\n",
              "       [23, 'Sliding Two Fingers Right', 38, 12, (100, 176), 'JPEG'],\n",
              "       [30, 'Swiping Down', 37, 15, (100, 176), 'JPEG'],\n",
              "       [35, 'Drumming Fingers', 36, 1, (100, 176), 'JPEG']], dtype=object)"
            ]
          },
          "metadata": {
            "tags": []
          },
          "execution_count": 40
        }
      ]
    },
    {
      "cell_type": "code",
      "metadata": {
        "id": "rkKIigzlRIGv",
        "colab_type": "code",
        "outputId": "034478f7-b306-405f-9d4c-539719d4f8d6",
        "colab": {
          "base_uri": "https://localhost:8080/",
          "height": 450
        }
      },
      "source": [
        "sample_val = val.groupby(by = \"label\")\n",
        "sample_val.apply(lambda x: x.sample(frac=0.3))"
      ],
      "execution_count": 0,
      "outputs": [
        {
          "output_type": "execute_result",
          "data": {
            "text/html": [
              "<div>\n",
              "<style scoped>\n",
              "    .dataframe tbody tr th:only-of-type {\n",
              "        vertical-align: middle;\n",
              "    }\n",
              "\n",
              "    .dataframe tbody tr th {\n",
              "        vertical-align: top;\n",
              "    }\n",
              "\n",
              "    .dataframe thead th {\n",
              "        text-align: right;\n",
              "    }\n",
              "</style>\n",
              "<table border=\"1\" class=\"dataframe\">\n",
              "  <thead>\n",
              "    <tr style=\"text-align: right;\">\n",
              "      <th></th>\n",
              "      <th></th>\n",
              "      <th>video_id</th>\n",
              "      <th>label</th>\n",
              "      <th>frames</th>\n",
              "      <th>label_id</th>\n",
              "      <th>shape</th>\n",
              "      <th>format</th>\n",
              "    </tr>\n",
              "    <tr>\n",
              "      <th>label</th>\n",
              "      <th></th>\n",
              "      <th></th>\n",
              "      <th></th>\n",
              "      <th></th>\n",
              "      <th></th>\n",
              "      <th></th>\n",
              "      <th></th>\n",
              "    </tr>\n",
              "  </thead>\n",
              "  <tbody>\n",
              "    <tr>\n",
              "      <th rowspan=\"5\" valign=\"top\">Doing other things</th>\n",
              "      <th>810</th>\n",
              "      <td>50883</td>\n",
              "      <td>Doing other things</td>\n",
              "      <td>39</td>\n",
              "      <td>0</td>\n",
              "      <td>(100, 176)</td>\n",
              "      <td>JPEG</td>\n",
              "    </tr>\n",
              "    <tr>\n",
              "      <th>14390</th>\n",
              "      <td>138871</td>\n",
              "      <td>Doing other things</td>\n",
              "      <td>37</td>\n",
              "      <td>0</td>\n",
              "      <td>(100, 176)</td>\n",
              "      <td>JPEG</td>\n",
              "    </tr>\n",
              "    <tr>\n",
              "      <th>13176</th>\n",
              "      <td>43137</td>\n",
              "      <td>Doing other things</td>\n",
              "      <td>37</td>\n",
              "      <td>0</td>\n",
              "      <td>(100, 176)</td>\n",
              "      <td>JPEG</td>\n",
              "    </tr>\n",
              "    <tr>\n",
              "      <th>7144</th>\n",
              "      <td>118715</td>\n",
              "      <td>Doing other things</td>\n",
              "      <td>38</td>\n",
              "      <td>0</td>\n",
              "      <td>(100, 176)</td>\n",
              "      <td>JPEG</td>\n",
              "    </tr>\n",
              "    <tr>\n",
              "      <th>9849</th>\n",
              "      <td>122962</td>\n",
              "      <td>Doing other things</td>\n",
              "      <td>38</td>\n",
              "      <td>0</td>\n",
              "      <td>(100, 132)</td>\n",
              "      <td>JPEG</td>\n",
              "    </tr>\n",
              "    <tr>\n",
              "      <th>...</th>\n",
              "      <th>...</th>\n",
              "      <td>...</td>\n",
              "      <td>...</td>\n",
              "      <td>...</td>\n",
              "      <td>...</td>\n",
              "      <td>...</td>\n",
              "      <td>...</td>\n",
              "    </tr>\n",
              "    <tr>\n",
              "      <th rowspan=\"5\" valign=\"top\">Zooming Out With Two Fingers</th>\n",
              "      <th>9040</th>\n",
              "      <td>130382</td>\n",
              "      <td>Zooming Out With Two Fingers</td>\n",
              "      <td>38</td>\n",
              "      <td>26</td>\n",
              "      <td>(100, 132)</td>\n",
              "      <td>JPEG</td>\n",
              "    </tr>\n",
              "    <tr>\n",
              "      <th>2308</th>\n",
              "      <td>90978</td>\n",
              "      <td>Zooming Out With Two Fingers</td>\n",
              "      <td>37</td>\n",
              "      <td>26</td>\n",
              "      <td>(100, 176)</td>\n",
              "      <td>JPEG</td>\n",
              "    </tr>\n",
              "    <tr>\n",
              "      <th>5885</th>\n",
              "      <td>143744</td>\n",
              "      <td>Zooming Out With Two Fingers</td>\n",
              "      <td>37</td>\n",
              "      <td>26</td>\n",
              "      <td>(100, 176)</td>\n",
              "      <td>JPEG</td>\n",
              "    </tr>\n",
              "    <tr>\n",
              "      <th>5437</th>\n",
              "      <td>109911</td>\n",
              "      <td>Zooming Out With Two Fingers</td>\n",
              "      <td>36</td>\n",
              "      <td>26</td>\n",
              "      <td>(100, 176)</td>\n",
              "      <td>JPEG</td>\n",
              "    </tr>\n",
              "    <tr>\n",
              "      <th>1589</th>\n",
              "      <td>92514</td>\n",
              "      <td>Zooming Out With Two Fingers</td>\n",
              "      <td>37</td>\n",
              "      <td>26</td>\n",
              "      <td>(100, 176)</td>\n",
              "      <td>JPEG</td>\n",
              "    </tr>\n",
              "  </tbody>\n",
              "</table>\n",
              "<p>4437 rows × 6 columns</p>\n",
              "</div>"
            ],
            "text/plain": [
              "                                    video_id  ... format\n",
              "label                                         ...       \n",
              "Doing other things           810       50883  ...   JPEG\n",
              "                             14390    138871  ...   JPEG\n",
              "                             13176     43137  ...   JPEG\n",
              "                             7144     118715  ...   JPEG\n",
              "                             9849     122962  ...   JPEG\n",
              "...                                      ...  ...    ...\n",
              "Zooming Out With Two Fingers 9040     130382  ...   JPEG\n",
              "                             2308      90978  ...   JPEG\n",
              "                             5885     143744  ...   JPEG\n",
              "                             5437     109911  ...   JPEG\n",
              "                             1589      92514  ...   JPEG\n",
              "\n",
              "[4437 rows x 6 columns]"
            ]
          },
          "metadata": {
            "tags": []
          },
          "execution_count": 41
        }
      ]
    },
    {
      "cell_type": "code",
      "metadata": {
        "id": "83-o5s8DpjC8",
        "colab_type": "code",
        "outputId": "b65528db-5513-4765-81a9-36a48ce61471",
        "colab": {
          "base_uri": "https://localhost:8080/",
          "height": 235
        }
      },
      "source": [
        "sample_val.apply(lambda x: x.sample(frac=0.3)).head()"
      ],
      "execution_count": 0,
      "outputs": [
        {
          "output_type": "execute_result",
          "data": {
            "text/html": [
              "<div>\n",
              "<style scoped>\n",
              "    .dataframe tbody tr th:only-of-type {\n",
              "        vertical-align: middle;\n",
              "    }\n",
              "\n",
              "    .dataframe tbody tr th {\n",
              "        vertical-align: top;\n",
              "    }\n",
              "\n",
              "    .dataframe thead th {\n",
              "        text-align: right;\n",
              "    }\n",
              "</style>\n",
              "<table border=\"1\" class=\"dataframe\">\n",
              "  <thead>\n",
              "    <tr style=\"text-align: right;\">\n",
              "      <th></th>\n",
              "      <th></th>\n",
              "      <th>video_id</th>\n",
              "      <th>label</th>\n",
              "      <th>frames</th>\n",
              "      <th>label_id</th>\n",
              "      <th>shape</th>\n",
              "      <th>format</th>\n",
              "    </tr>\n",
              "    <tr>\n",
              "      <th>label</th>\n",
              "      <th></th>\n",
              "      <th></th>\n",
              "      <th></th>\n",
              "      <th></th>\n",
              "      <th></th>\n",
              "      <th></th>\n",
              "      <th></th>\n",
              "    </tr>\n",
              "  </thead>\n",
              "  <tbody>\n",
              "    <tr>\n",
              "      <th rowspan=\"5\" valign=\"top\">Doing other things</th>\n",
              "      <th>11769</th>\n",
              "      <td>98305</td>\n",
              "      <td>Doing other things</td>\n",
              "      <td>32</td>\n",
              "      <td>0</td>\n",
              "      <td>(100, 132)</td>\n",
              "      <td>JPEG</td>\n",
              "    </tr>\n",
              "    <tr>\n",
              "      <th>5088</th>\n",
              "      <td>91332</td>\n",
              "      <td>Doing other things</td>\n",
              "      <td>37</td>\n",
              "      <td>0</td>\n",
              "      <td>(100, 176)</td>\n",
              "      <td>JPEG</td>\n",
              "    </tr>\n",
              "    <tr>\n",
              "      <th>2437</th>\n",
              "      <td>111352</td>\n",
              "      <td>Doing other things</td>\n",
              "      <td>36</td>\n",
              "      <td>0</td>\n",
              "      <td>(100, 176)</td>\n",
              "      <td>JPEG</td>\n",
              "    </tr>\n",
              "    <tr>\n",
              "      <th>977</th>\n",
              "      <td>61352</td>\n",
              "      <td>Doing other things</td>\n",
              "      <td>36</td>\n",
              "      <td>0</td>\n",
              "      <td>(100, 176)</td>\n",
              "      <td>JPEG</td>\n",
              "    </tr>\n",
              "    <tr>\n",
              "      <th>12000</th>\n",
              "      <td>39744</td>\n",
              "      <td>Doing other things</td>\n",
              "      <td>37</td>\n",
              "      <td>0</td>\n",
              "      <td>(100, 176)</td>\n",
              "      <td>JPEG</td>\n",
              "    </tr>\n",
              "  </tbody>\n",
              "</table>\n",
              "</div>"
            ],
            "text/plain": [
              "                          video_id               label  ...       shape  format\n",
              "label                                                   ...                    \n",
              "Doing other things 11769     98305  Doing other things  ...  (100, 132)    JPEG\n",
              "                   5088      91332  Doing other things  ...  (100, 176)    JPEG\n",
              "                   2437     111352  Doing other things  ...  (100, 176)    JPEG\n",
              "                   977       61352  Doing other things  ...  (100, 176)    JPEG\n",
              "                   12000     39744  Doing other things  ...  (100, 176)    JPEG\n",
              "\n",
              "[5 rows x 6 columns]"
            ]
          },
          "metadata": {
            "tags": []
          },
          "execution_count": 42
        }
      ]
    },
    {
      "cell_type": "code",
      "metadata": {
        "id": "iRiT2dPkG7wP",
        "colab_type": "code",
        "outputId": "1ffcf079-8bf9-4b2e-d025-822f6f037d50",
        "colab": {
          "base_uri": "https://localhost:8080/",
          "height": 297
        }
      },
      "source": [
        "sample_val.apply(lambda x: x.sample(frac=0.3)).describe()"
      ],
      "execution_count": 0,
      "outputs": [
        {
          "output_type": "execute_result",
          "data": {
            "text/html": [
              "<div>\n",
              "<style scoped>\n",
              "    .dataframe tbody tr th:only-of-type {\n",
              "        vertical-align: middle;\n",
              "    }\n",
              "\n",
              "    .dataframe tbody tr th {\n",
              "        vertical-align: top;\n",
              "    }\n",
              "\n",
              "    .dataframe thead th {\n",
              "        text-align: right;\n",
              "    }\n",
              "</style>\n",
              "<table border=\"1\" class=\"dataframe\">\n",
              "  <thead>\n",
              "    <tr style=\"text-align: right;\">\n",
              "      <th></th>\n",
              "      <th>video_id</th>\n",
              "      <th>frames</th>\n",
              "      <th>label_id</th>\n",
              "    </tr>\n",
              "  </thead>\n",
              "  <tbody>\n",
              "    <tr>\n",
              "      <th>count</th>\n",
              "      <td>4437.000000</td>\n",
              "      <td>4437.000000</td>\n",
              "      <td>4437.000000</td>\n",
              "    </tr>\n",
              "    <tr>\n",
              "      <th>mean</th>\n",
              "      <td>74356.949515</td>\n",
              "      <td>36.018706</td>\n",
              "      <td>12.010593</td>\n",
              "    </tr>\n",
              "    <tr>\n",
              "      <th>std</th>\n",
              "      <td>42675.799992</td>\n",
              "      <td>1.804179</td>\n",
              "      <td>8.175053</td>\n",
              "    </tr>\n",
              "    <tr>\n",
              "      <th>min</th>\n",
              "      <td>16.000000</td>\n",
              "      <td>13.000000</td>\n",
              "      <td>0.000000</td>\n",
              "    </tr>\n",
              "    <tr>\n",
              "      <th>25%</th>\n",
              "      <td>37623.000000</td>\n",
              "      <td>36.000000</td>\n",
              "      <td>5.000000</td>\n",
              "    </tr>\n",
              "    <tr>\n",
              "      <th>50%</th>\n",
              "      <td>74946.000000</td>\n",
              "      <td>37.000000</td>\n",
              "      <td>12.000000</td>\n",
              "    </tr>\n",
              "    <tr>\n",
              "      <th>75%</th>\n",
              "      <td>111477.000000</td>\n",
              "      <td>37.000000</td>\n",
              "      <td>19.000000</td>\n",
              "    </tr>\n",
              "    <tr>\n",
              "      <th>max</th>\n",
              "      <td>148033.000000</td>\n",
              "      <td>44.000000</td>\n",
              "      <td>26.000000</td>\n",
              "    </tr>\n",
              "  </tbody>\n",
              "</table>\n",
              "</div>"
            ],
            "text/plain": [
              "            video_id       frames     label_id\n",
              "count    4437.000000  4437.000000  4437.000000\n",
              "mean    74356.949515    36.018706    12.010593\n",
              "std     42675.799992     1.804179     8.175053\n",
              "min        16.000000    13.000000     0.000000\n",
              "25%     37623.000000    36.000000     5.000000\n",
              "50%     74946.000000    37.000000    12.000000\n",
              "75%    111477.000000    37.000000    19.000000\n",
              "max    148033.000000    44.000000    26.000000"
            ]
          },
          "metadata": {
            "tags": []
          },
          "execution_count": 43
        }
      ]
    },
    {
      "cell_type": "code",
      "metadata": {
        "id": "6BCEUfcfG9Wi",
        "colab_type": "code",
        "outputId": "53311ce8-7e5c-41a4-c522-db08d7ee33c5",
        "colab": {
          "base_uri": "https://localhost:8080/",
          "height": 450
        }
      },
      "source": [
        "train.groupby(by = [\"label\", \"frames\"]).agg(lambda x:x.value_counts().index[0])"
      ],
      "execution_count": 0,
      "outputs": [
        {
          "output_type": "execute_result",
          "data": {
            "text/html": [
              "<div>\n",
              "<style scoped>\n",
              "    .dataframe tbody tr th:only-of-type {\n",
              "        vertical-align: middle;\n",
              "    }\n",
              "\n",
              "    .dataframe tbody tr th {\n",
              "        vertical-align: top;\n",
              "    }\n",
              "\n",
              "    .dataframe thead th {\n",
              "        text-align: right;\n",
              "    }\n",
              "</style>\n",
              "<table border=\"1\" class=\"dataframe\">\n",
              "  <thead>\n",
              "    <tr style=\"text-align: right;\">\n",
              "      <th></th>\n",
              "      <th></th>\n",
              "      <th>video_id</th>\n",
              "      <th>label_id</th>\n",
              "      <th>shape</th>\n",
              "      <th>format</th>\n",
              "    </tr>\n",
              "    <tr>\n",
              "      <th>label</th>\n",
              "      <th>frames</th>\n",
              "      <th></th>\n",
              "      <th></th>\n",
              "      <th></th>\n",
              "      <th></th>\n",
              "    </tr>\n",
              "  </thead>\n",
              "  <tbody>\n",
              "    <tr>\n",
              "      <th rowspan=\"5\" valign=\"top\">Doing other things</th>\n",
              "      <th>12</th>\n",
              "      <td>34856</td>\n",
              "      <td>0</td>\n",
              "      <td>(100, 176)</td>\n",
              "      <td>JPEG</td>\n",
              "    </tr>\n",
              "    <tr>\n",
              "      <th>13</th>\n",
              "      <td>52616</td>\n",
              "      <td>0</td>\n",
              "      <td>(100, 132)</td>\n",
              "      <td>JPEG</td>\n",
              "    </tr>\n",
              "    <tr>\n",
              "      <th>19</th>\n",
              "      <td>102367</td>\n",
              "      <td>0</td>\n",
              "      <td>(100, 132)</td>\n",
              "      <td>JPEG</td>\n",
              "    </tr>\n",
              "    <tr>\n",
              "      <th>20</th>\n",
              "      <td>93174</td>\n",
              "      <td>0</td>\n",
              "      <td>(100, 132)</td>\n",
              "      <td>JPEG</td>\n",
              "    </tr>\n",
              "    <tr>\n",
              "      <th>21</th>\n",
              "      <td>73083</td>\n",
              "      <td>0</td>\n",
              "      <td>(100, 176)</td>\n",
              "      <td>JPEG</td>\n",
              "    </tr>\n",
              "    <tr>\n",
              "      <th>...</th>\n",
              "      <th>...</th>\n",
              "      <td>...</td>\n",
              "      <td>...</td>\n",
              "      <td>...</td>\n",
              "      <td>...</td>\n",
              "    </tr>\n",
              "    <tr>\n",
              "      <th rowspan=\"5\" valign=\"top\">Zooming Out With Two Fingers</th>\n",
              "      <th>40</th>\n",
              "      <td>140581</td>\n",
              "      <td>26</td>\n",
              "      <td>(100, 176)</td>\n",
              "      <td>JPEG</td>\n",
              "    </tr>\n",
              "    <tr>\n",
              "      <th>42</th>\n",
              "      <td>58975</td>\n",
              "      <td>26</td>\n",
              "      <td>(100, 176)</td>\n",
              "      <td>JPEG</td>\n",
              "    </tr>\n",
              "    <tr>\n",
              "      <th>44</th>\n",
              "      <td>139638</td>\n",
              "      <td>26</td>\n",
              "      <td>(100, 132)</td>\n",
              "      <td>JPEG</td>\n",
              "    </tr>\n",
              "    <tr>\n",
              "      <th>48</th>\n",
              "      <td>76648</td>\n",
              "      <td>26</td>\n",
              "      <td>(100, 132)</td>\n",
              "      <td>JPEG</td>\n",
              "    </tr>\n",
              "    <tr>\n",
              "      <th>56</th>\n",
              "      <td>10944</td>\n",
              "      <td>26</td>\n",
              "      <td>(100, 176)</td>\n",
              "      <td>JPEG</td>\n",
              "    </tr>\n",
              "  </tbody>\n",
              "</table>\n",
              "<p>725 rows × 4 columns</p>\n",
              "</div>"
            ],
            "text/plain": [
              "                                     video_id  label_id       shape format\n",
              "label                        frames                                       \n",
              "Doing other things           12         34856         0  (100, 176)   JPEG\n",
              "                             13         52616         0  (100, 132)   JPEG\n",
              "                             19        102367         0  (100, 132)   JPEG\n",
              "                             20         93174         0  (100, 132)   JPEG\n",
              "                             21         73083         0  (100, 176)   JPEG\n",
              "...                                       ...       ...         ...    ...\n",
              "Zooming Out With Two Fingers 40        140581        26  (100, 176)   JPEG\n",
              "                             42         58975        26  (100, 176)   JPEG\n",
              "                             44        139638        26  (100, 132)   JPEG\n",
              "                             48         76648        26  (100, 132)   JPEG\n",
              "                             56         10944        26  (100, 176)   JPEG\n",
              "\n",
              "[725 rows x 4 columns]"
            ]
          },
          "metadata": {
            "tags": []
          },
          "execution_count": 44
        }
      ]
    },
    {
      "cell_type": "code",
      "metadata": {
        "id": "5rqJeeesyosf",
        "colab_type": "code",
        "outputId": "8ee1420a-8779-421f-b4c7-2475b7fc161c",
        "colab": {
          "base_uri": "https://localhost:8080/",
          "height": 561
        }
      },
      "source": [
        "train.groupby(by = [\"label\", \"frames\"]).size().sort_values(ascending=False).head(30)"
      ],
      "execution_count": 0,
      "outputs": [
        {
          "output_type": "execute_result",
          "data": {
            "text/plain": [
              "label                          frames\n",
              "Doing other things             37        4374\n",
              "Pulling Two Fingers In         37        1859\n",
              "Zooming Out With Two Fingers   37        1847\n",
              "No gesture                     37        1844\n",
              "Pushing Two Fingers Away       37        1843\n",
              "Thumb Up                       37        1841\n",
              "Sliding Two Fingers Down       37        1832\n",
              "Zooming Out With Full Hand     37        1832\n",
              "Pulling Hand In                37        1829\n",
              "Swiping Down                   37        1824\n",
              "Stop Sign                      37        1821\n",
              "Drumming Fingers               37        1818\n",
              "Sliding Two Fingers Left       37        1816\n",
              "Pushing Hand Away              37        1812\n",
              "Thumb Down                     37        1810\n",
              "Zooming In With Two Fingers    37        1801\n",
              "Zooming In With Full Hand      37        1799\n",
              "Shaking Hand                   37        1789\n",
              "Rolling Hand Forward           37        1788\n",
              "Sliding Two Fingers Right      37        1780\n",
              "Sliding Two Fingers Up         37        1779\n",
              "Swiping Up                     37        1768\n",
              "Swiping Left                   37        1762\n",
              "Swiping Right                  37        1730\n",
              "Rolling Hand Backward          37        1715\n",
              "Doing other things             36        1644\n",
              "Turning Hand Counterclockwise  37        1380\n",
              "Turning Hand Clockwise         37        1327\n",
              "Doing other things             35         910\n",
              "Thumb Down                     36         881\n",
              "dtype: int64"
            ]
          },
          "metadata": {
            "tags": []
          },
          "execution_count": 45
        }
      ]
    },
    {
      "cell_type": "code",
      "metadata": {
        "id": "8XBjv77r9OkG",
        "colab_type": "code",
        "outputId": "264527be-3a2f-4fb5-9f02-84998018f5fc",
        "colab": {
          "base_uri": "https://localhost:8080/",
          "height": 561
        }
      },
      "source": [
        "val.groupby(by = [\"label\", \"frames\"]).size().sort_values(ascending=False).head(30)"
      ],
      "execution_count": 0,
      "outputs": [
        {
          "output_type": "execute_result",
          "data": {
            "text/plain": [
              "label                          frames\n",
              "Doing other things             37        713\n",
              "                               36        274\n",
              "Zooming In With Full Hand      37        262\n",
              "Zooming Out With Two Fingers   37        261\n",
              "Zooming Out With Full Hand     37        260\n",
              "Stop Sign                      37        259\n",
              "Drumming Fingers               37        257\n",
              "Zooming In With Two Fingers    37        257\n",
              "No gesture                     37        256\n",
              "Pulling Hand In                37        250\n",
              "Thumb Down                     37        250\n",
              "Sliding Two Fingers Down       37        249\n",
              "Swiping Down                   37        248\n",
              "Swiping Left                   37        247\n",
              "Pushing Hand Away              37        246\n",
              "Sliding Two Fingers Left       37        246\n",
              "Shaking Hand                   37        245\n",
              "Rolling Hand Forward           37        244\n",
              "Sliding Two Fingers Up         37        244\n",
              "Sliding Two Fingers Right      37        242\n",
              "Swiping Up                     37        241\n",
              "Pushing Two Fingers Away       37        241\n",
              "Rolling Hand Backward          37        239\n",
              "Thumb Up                       37        238\n",
              "Pulling Two Fingers In         37        233\n",
              "Swiping Right                  37        231\n",
              "Turning Hand Clockwise         37        196\n",
              "Turning Hand Counterclockwise  37        192\n",
              "Pushing Hand Away              36        134\n",
              "Pulling Two Fingers In         36        125\n",
              "dtype: int64"
            ]
          },
          "metadata": {
            "tags": []
          },
          "execution_count": 46
        }
      ]
    },
    {
      "cell_type": "code",
      "metadata": {
        "id": "sAzdQre-9yDM",
        "colab_type": "code",
        "outputId": "46db5f68-dae2-4834-9049-259b3687060a",
        "colab": {
          "base_uri": "https://localhost:8080/",
          "height": 510
        }
      },
      "source": [
        "train[train[\"frames\"]==37].groupby(by = \"label\").size().sort_values(ascending=False)"
      ],
      "execution_count": 0,
      "outputs": [
        {
          "output_type": "execute_result",
          "data": {
            "text/plain": [
              "label\n",
              "Doing other things               4374\n",
              "Pulling Two Fingers In           1859\n",
              "Zooming Out With Two Fingers     1847\n",
              "No gesture                       1844\n",
              "Pushing Two Fingers Away         1843\n",
              "Thumb Up                         1841\n",
              "Sliding Two Fingers Down         1832\n",
              "Zooming Out With Full Hand       1832\n",
              "Pulling Hand In                  1829\n",
              "Swiping Down                     1824\n",
              "Stop Sign                        1821\n",
              "Drumming Fingers                 1818\n",
              "Sliding Two Fingers Left         1816\n",
              "Pushing Hand Away                1812\n",
              "Thumb Down                       1810\n",
              "Zooming In With Two Fingers      1801\n",
              "Zooming In With Full Hand        1799\n",
              "Shaking Hand                     1789\n",
              "Rolling Hand Forward             1788\n",
              "Sliding Two Fingers Right        1780\n",
              "Sliding Two Fingers Up           1779\n",
              "Swiping Up                       1768\n",
              "Swiping Left                     1762\n",
              "Swiping Right                    1730\n",
              "Rolling Hand Backward            1715\n",
              "Turning Hand Counterclockwise    1380\n",
              "Turning Hand Clockwise           1327\n",
              "dtype: int64"
            ]
          },
          "metadata": {
            "tags": []
          },
          "execution_count": 47
        }
      ]
    },
    {
      "cell_type": "code",
      "metadata": {
        "id": "EMNMQ6oxGEev",
        "colab_type": "code",
        "outputId": "93dd7e32-102f-40dc-a9af-6b1f80659ff8",
        "colab": {
          "base_uri": "https://localhost:8080/",
          "height": 510
        }
      },
      "source": [
        "train[train[\"frames\"]==37].groupby(by = \"label\").size().transform(lambda x: 1327/x).sort_values(ascending=True)"
      ],
      "execution_count": 0,
      "outputs": [
        {
          "output_type": "execute_result",
          "data": {
            "text/plain": [
              "label\n",
              "Doing other things               0.303384\n",
              "Pulling Two Fingers In           0.713825\n",
              "Zooming Out With Two Fingers     0.718462\n",
              "No gesture                       0.719631\n",
              "Pushing Two Fingers Away         0.720022\n",
              "Thumb Up                         0.720804\n",
              "Zooming Out With Full Hand       0.724345\n",
              "Sliding Two Fingers Down         0.724345\n",
              "Pulling Hand In                  0.725533\n",
              "Swiping Down                     0.727522\n",
              "Stop Sign                        0.728720\n",
              "Drumming Fingers                 0.729923\n",
              "Sliding Two Fingers Left         0.730727\n",
              "Pushing Hand Away                0.732340\n",
              "Thumb Down                       0.733149\n",
              "Zooming In With Two Fingers      0.736813\n",
              "Zooming In With Full Hand        0.737632\n",
              "Shaking Hand                     0.741755\n",
              "Rolling Hand Forward             0.742170\n",
              "Sliding Two Fingers Right        0.745506\n",
              "Sliding Two Fingers Up           0.745925\n",
              "Swiping Up                       0.750566\n",
              "Swiping Left                     0.753121\n",
              "Swiping Right                    0.767052\n",
              "Rolling Hand Backward            0.773761\n",
              "Turning Hand Counterclockwise    0.961594\n",
              "Turning Hand Clockwise           1.000000\n",
              "dtype: float64"
            ]
          },
          "metadata": {
            "tags": []
          },
          "execution_count": 48
        }
      ]
    },
    {
      "cell_type": "code",
      "metadata": {
        "id": "XXut9sAJqell",
        "colab_type": "code",
        "outputId": "bc74d8c3-65ac-4b8e-a5c8-8ed0914f57c3",
        "colab": {
          "base_uri": "https://localhost:8080/",
          "height": 34
        }
      },
      "source": [
        "functools.reduce(math.gcd, train[train[\"frames\"]==37].groupby(by = \"label\").size().to_numpy())"
      ],
      "execution_count": 0,
      "outputs": [
        {
          "output_type": "execute_result",
          "data": {
            "text/plain": [
              "1"
            ]
          },
          "metadata": {
            "tags": []
          },
          "execution_count": 49
        }
      ]
    },
    {
      "cell_type": "code",
      "metadata": {
        "id": "mIlVCu7QzP20",
        "colab_type": "code",
        "outputId": "40041748-32b5-42f3-8cc3-f2210747936d",
        "colab": {
          "base_uri": "https://localhost:8080/",
          "height": 510
        }
      },
      "source": [
        "train[train[\"frames\"]==37].groupby(by = \"label\").size().transform(lambda x: math.gcd(1327, x)).sort_values(ascending=True)"
      ],
      "execution_count": 0,
      "outputs": [
        {
          "output_type": "execute_result",
          "data": {
            "text/plain": [
              "label\n",
              "Doing other things                  1\n",
              "Zooming In With Two Fingers         1\n",
              "Zooming In With Full Hand           1\n",
              "Turning Hand Counterclockwise       1\n",
              "Thumb Up                            1\n",
              "Thumb Down                          1\n",
              "Swiping Up                          1\n",
              "Swiping Right                       1\n",
              "Swiping Left                        1\n",
              "Swiping Down                        1\n",
              "Stop Sign                           1\n",
              "Zooming Out With Full Hand          1\n",
              "Sliding Two Fingers Up              1\n",
              "Sliding Two Fingers Left            1\n",
              "Sliding Two Fingers Down            1\n",
              "Shaking Hand                        1\n",
              "Rolling Hand Forward                1\n",
              "Rolling Hand Backward               1\n",
              "Pushing Two Fingers Away            1\n",
              "Pushing Hand Away                   1\n",
              "Pulling Two Fingers In              1\n",
              "Pulling Hand In                     1\n",
              "No gesture                          1\n",
              "Drumming Fingers                    1\n",
              "Sliding Two Fingers Right           1\n",
              "Zooming Out With Two Fingers        1\n",
              "Turning Hand Clockwise           1327\n",
              "dtype: int64"
            ]
          },
          "metadata": {
            "tags": []
          },
          "execution_count": 50
        }
      ]
    },
    {
      "cell_type": "code",
      "metadata": {
        "id": "yPjRYHR8z2sK",
        "colab_type": "code",
        "outputId": "77cf3c03-1f83-4813-d9c5-8f7ff0cfbdf4",
        "colab": {
          "base_uri": "https://localhost:8080/",
          "height": 450
        }
      },
      "source": [
        "train[train[\"frames\"]==37].groupby(by = \"label\").apply(lambda x: x.sample(n = 1327))"
      ],
      "execution_count": 0,
      "outputs": [
        {
          "output_type": "execute_result",
          "data": {
            "text/html": [
              "<div>\n",
              "<style scoped>\n",
              "    .dataframe tbody tr th:only-of-type {\n",
              "        vertical-align: middle;\n",
              "    }\n",
              "\n",
              "    .dataframe tbody tr th {\n",
              "        vertical-align: top;\n",
              "    }\n",
              "\n",
              "    .dataframe thead th {\n",
              "        text-align: right;\n",
              "    }\n",
              "</style>\n",
              "<table border=\"1\" class=\"dataframe\">\n",
              "  <thead>\n",
              "    <tr style=\"text-align: right;\">\n",
              "      <th></th>\n",
              "      <th></th>\n",
              "      <th>video_id</th>\n",
              "      <th>label</th>\n",
              "      <th>frames</th>\n",
              "      <th>label_id</th>\n",
              "      <th>shape</th>\n",
              "      <th>format</th>\n",
              "    </tr>\n",
              "    <tr>\n",
              "      <th>label</th>\n",
              "      <th></th>\n",
              "      <th></th>\n",
              "      <th></th>\n",
              "      <th></th>\n",
              "      <th></th>\n",
              "      <th></th>\n",
              "      <th></th>\n",
              "    </tr>\n",
              "  </thead>\n",
              "  <tbody>\n",
              "    <tr>\n",
              "      <th rowspan=\"5\" valign=\"top\">Doing other things</th>\n",
              "      <th>79382</th>\n",
              "      <td>117269</td>\n",
              "      <td>Doing other things</td>\n",
              "      <td>37</td>\n",
              "      <td>0</td>\n",
              "      <td>(100, 176)</td>\n",
              "      <td>JPEG</td>\n",
              "    </tr>\n",
              "    <tr>\n",
              "      <th>16694</th>\n",
              "      <td>66329</td>\n",
              "      <td>Doing other things</td>\n",
              "      <td>37</td>\n",
              "      <td>0</td>\n",
              "      <td>(100, 176)</td>\n",
              "      <td>JPEG</td>\n",
              "    </tr>\n",
              "    <tr>\n",
              "      <th>33499</th>\n",
              "      <td>53081</td>\n",
              "      <td>Doing other things</td>\n",
              "      <td>37</td>\n",
              "      <td>0</td>\n",
              "      <td>(100, 132)</td>\n",
              "      <td>JPEG</td>\n",
              "    </tr>\n",
              "    <tr>\n",
              "      <th>22561</th>\n",
              "      <td>25261</td>\n",
              "      <td>Doing other things</td>\n",
              "      <td>37</td>\n",
              "      <td>0</td>\n",
              "      <td>(100, 176)</td>\n",
              "      <td>JPEG</td>\n",
              "    </tr>\n",
              "    <tr>\n",
              "      <th>118231</th>\n",
              "      <td>96467</td>\n",
              "      <td>Doing other things</td>\n",
              "      <td>37</td>\n",
              "      <td>0</td>\n",
              "      <td>(100, 176)</td>\n",
              "      <td>JPEG</td>\n",
              "    </tr>\n",
              "    <tr>\n",
              "      <th>...</th>\n",
              "      <th>...</th>\n",
              "      <td>...</td>\n",
              "      <td>...</td>\n",
              "      <td>...</td>\n",
              "      <td>...</td>\n",
              "      <td>...</td>\n",
              "      <td>...</td>\n",
              "    </tr>\n",
              "    <tr>\n",
              "      <th rowspan=\"5\" valign=\"top\">Zooming Out With Two Fingers</th>\n",
              "      <th>25109</th>\n",
              "      <td>35485</td>\n",
              "      <td>Zooming Out With Two Fingers</td>\n",
              "      <td>37</td>\n",
              "      <td>26</td>\n",
              "      <td>(100, 176)</td>\n",
              "      <td>JPEG</td>\n",
              "    </tr>\n",
              "    <tr>\n",
              "      <th>80116</th>\n",
              "      <td>58244</td>\n",
              "      <td>Zooming Out With Two Fingers</td>\n",
              "      <td>37</td>\n",
              "      <td>26</td>\n",
              "      <td>(100, 176)</td>\n",
              "      <td>JPEG</td>\n",
              "    </tr>\n",
              "    <tr>\n",
              "      <th>20900</th>\n",
              "      <td>125574</td>\n",
              "      <td>Zooming Out With Two Fingers</td>\n",
              "      <td>37</td>\n",
              "      <td>26</td>\n",
              "      <td>(100, 176)</td>\n",
              "      <td>JPEG</td>\n",
              "    </tr>\n",
              "    <tr>\n",
              "      <th>37777</th>\n",
              "      <td>146889</td>\n",
              "      <td>Zooming Out With Two Fingers</td>\n",
              "      <td>37</td>\n",
              "      <td>26</td>\n",
              "      <td>(100, 176)</td>\n",
              "      <td>JPEG</td>\n",
              "    </tr>\n",
              "    <tr>\n",
              "      <th>107816</th>\n",
              "      <td>31562</td>\n",
              "      <td>Zooming Out With Two Fingers</td>\n",
              "      <td>37</td>\n",
              "      <td>26</td>\n",
              "      <td>(100, 176)</td>\n",
              "      <td>JPEG</td>\n",
              "    </tr>\n",
              "  </tbody>\n",
              "</table>\n",
              "<p>35829 rows × 6 columns</p>\n",
              "</div>"
            ],
            "text/plain": [
              "                                     video_id  ... format\n",
              "label                                          ...       \n",
              "Doing other things           79382     117269  ...   JPEG\n",
              "                             16694      66329  ...   JPEG\n",
              "                             33499      53081  ...   JPEG\n",
              "                             22561      25261  ...   JPEG\n",
              "                             118231     96467  ...   JPEG\n",
              "...                                       ...  ...    ...\n",
              "Zooming Out With Two Fingers 25109      35485  ...   JPEG\n",
              "                             80116      58244  ...   JPEG\n",
              "                             20900     125574  ...   JPEG\n",
              "                             37777     146889  ...   JPEG\n",
              "                             107816     31562  ...   JPEG\n",
              "\n",
              "[35829 rows x 6 columns]"
            ]
          },
          "metadata": {
            "tags": []
          },
          "execution_count": 51
        }
      ]
    },
    {
      "cell_type": "code",
      "metadata": {
        "id": "xTwzRBie4DKz",
        "colab_type": "code",
        "colab": {}
      },
      "source": [
        "train_set = train[train[\"frames\"]==37].groupby(by = \"label\").apply(lambda x: x.sample(n = 1327))[[\"video_id\", \"label_id\"]].to_numpy()"
      ],
      "execution_count": 0,
      "outputs": []
    },
    {
      "cell_type": "code",
      "metadata": {
        "id": "l29j0xyaFXgv",
        "colab_type": "code",
        "outputId": "da4be6fb-955f-415e-b846-25aba10427d2",
        "colab": {
          "base_uri": "https://localhost:8080/",
          "height": 510
        }
      },
      "source": [
        "val[val[\"frames\"]==37].groupby(by = \"label\").size().sort_values(ascending=False)"
      ],
      "execution_count": 0,
      "outputs": [
        {
          "output_type": "execute_result",
          "data": {
            "text/plain": [
              "label\n",
              "Doing other things               713\n",
              "Zooming In With Full Hand        262\n",
              "Zooming Out With Two Fingers     261\n",
              "Zooming Out With Full Hand       260\n",
              "Stop Sign                        259\n",
              "Zooming In With Two Fingers      257\n",
              "Drumming Fingers                 257\n",
              "No gesture                       256\n",
              "Thumb Down                       250\n",
              "Pulling Hand In                  250\n",
              "Sliding Two Fingers Down         249\n",
              "Swiping Down                     248\n",
              "Swiping Left                     247\n",
              "Pushing Hand Away                246\n",
              "Sliding Two Fingers Left         246\n",
              "Shaking Hand                     245\n",
              "Rolling Hand Forward             244\n",
              "Sliding Two Fingers Up           244\n",
              "Sliding Two Fingers Right        242\n",
              "Pushing Two Fingers Away         241\n",
              "Swiping Up                       241\n",
              "Rolling Hand Backward            239\n",
              "Thumb Up                         238\n",
              "Pulling Two Fingers In           233\n",
              "Swiping Right                    231\n",
              "Turning Hand Clockwise           196\n",
              "Turning Hand Counterclockwise    192\n",
              "dtype: int64"
            ]
          },
          "metadata": {
            "tags": []
          },
          "execution_count": 53
        }
      ]
    },
    {
      "cell_type": "code",
      "metadata": {
        "id": "yzJIjmktFcW5",
        "colab_type": "code",
        "outputId": "03f42d5b-d5af-4faf-ee45-78366574867a",
        "colab": {
          "base_uri": "https://localhost:8080/",
          "height": 510
        }
      },
      "source": [
        "val[val[\"frames\"]==37].groupby(by = \"label\").size().transform(lambda x: 192/x).sort_values(ascending=True)"
      ],
      "execution_count": 0,
      "outputs": [
        {
          "output_type": "execute_result",
          "data": {
            "text/plain": [
              "label\n",
              "Doing other things               0.269285\n",
              "Zooming In With Full Hand        0.732824\n",
              "Zooming Out With Two Fingers     0.735632\n",
              "Zooming Out With Full Hand       0.738462\n",
              "Stop Sign                        0.741313\n",
              "Zooming In With Two Fingers      0.747082\n",
              "Drumming Fingers                 0.747082\n",
              "No gesture                       0.750000\n",
              "Thumb Down                       0.768000\n",
              "Pulling Hand In                  0.768000\n",
              "Sliding Two Fingers Down         0.771084\n",
              "Swiping Down                     0.774194\n",
              "Swiping Left                     0.777328\n",
              "Sliding Two Fingers Left         0.780488\n",
              "Pushing Hand Away                0.780488\n",
              "Shaking Hand                     0.783673\n",
              "Sliding Two Fingers Up           0.786885\n",
              "Rolling Hand Forward             0.786885\n",
              "Sliding Two Fingers Right        0.793388\n",
              "Pushing Two Fingers Away         0.796680\n",
              "Swiping Up                       0.796680\n",
              "Rolling Hand Backward            0.803347\n",
              "Thumb Up                         0.806723\n",
              "Pulling Two Fingers In           0.824034\n",
              "Swiping Right                    0.831169\n",
              "Turning Hand Clockwise           0.979592\n",
              "Turning Hand Counterclockwise    1.000000\n",
              "dtype: float64"
            ]
          },
          "metadata": {
            "tags": []
          },
          "execution_count": 54
        }
      ]
    },
    {
      "cell_type": "code",
      "metadata": {
        "id": "LENDRMbNFlCX",
        "colab_type": "code",
        "outputId": "d5a6b4b4-dda7-44d0-a594-8dfc87a6ada3",
        "colab": {
          "base_uri": "https://localhost:8080/",
          "height": 34
        }
      },
      "source": [
        "functools.reduce(math.gcd, val[val[\"frames\"]==37].groupby(by = \"label\").size().to_numpy())"
      ],
      "execution_count": 0,
      "outputs": [
        {
          "output_type": "execute_result",
          "data": {
            "text/plain": [
              "1"
            ]
          },
          "metadata": {
            "tags": []
          },
          "execution_count": 55
        }
      ]
    },
    {
      "cell_type": "code",
      "metadata": {
        "id": "CkVuyS9SzDHc",
        "colab_type": "code",
        "outputId": "47d143a7-13cb-473a-f288-a91c00db3452",
        "colab": {
          "base_uri": "https://localhost:8080/",
          "height": 510
        }
      },
      "source": [
        "val[val[\"frames\"]==37].groupby(by = \"label\").size().transform(lambda x: math.gcd(192, x)).sort_values(ascending=True)"
      ],
      "execution_count": 0,
      "outputs": [
        {
          "output_type": "execute_result",
          "data": {
            "text/plain": [
              "label\n",
              "Doing other things                 1\n",
              "Drumming Fingers                   1\n",
              "Zooming In With Two Fingers        1\n",
              "Pulling Two Fingers In             1\n",
              "Pushing Two Fingers Away           1\n",
              "Rolling Hand Backward              1\n",
              "Shaking Hand                       1\n",
              "Swiping Up                         1\n",
              "Stop Sign                          1\n",
              "Swiping Left                       1\n",
              "Pulling Hand In                    2\n",
              "Zooming In With Full Hand          2\n",
              "Thumb Up                           2\n",
              "Thumb Down                         2\n",
              "Sliding Two Fingers Right          2\n",
              "Swiping Right                      3\n",
              "Zooming Out With Two Fingers       3\n",
              "Sliding Two Fingers Down           3\n",
              "Zooming Out With Full Hand         4\n",
              "Rolling Hand Forward               4\n",
              "Turning Hand Clockwise             4\n",
              "Sliding Two Fingers Up             4\n",
              "Sliding Two Fingers Left           6\n",
              "Pushing Hand Away                  6\n",
              "Swiping Down                       8\n",
              "No gesture                        64\n",
              "Turning Hand Counterclockwise    192\n",
              "dtype: int64"
            ]
          },
          "metadata": {
            "tags": []
          },
          "execution_count": 56
        }
      ]
    },
    {
      "cell_type": "code",
      "metadata": {
        "id": "qENH2OY7ywGt",
        "colab_type": "code",
        "outputId": "67083b8d-1e0b-4f97-b227-16ff44baecfe",
        "colab": {
          "base_uri": "https://localhost:8080/",
          "height": 450
        }
      },
      "source": [
        "val[val[\"frames\"]==37].groupby(by = \"label\").apply(lambda x: x.sample(n = 192))"
      ],
      "execution_count": 0,
      "outputs": [
        {
          "output_type": "execute_result",
          "data": {
            "text/html": [
              "<div>\n",
              "<style scoped>\n",
              "    .dataframe tbody tr th:only-of-type {\n",
              "        vertical-align: middle;\n",
              "    }\n",
              "\n",
              "    .dataframe tbody tr th {\n",
              "        vertical-align: top;\n",
              "    }\n",
              "\n",
              "    .dataframe thead th {\n",
              "        text-align: right;\n",
              "    }\n",
              "</style>\n",
              "<table border=\"1\" class=\"dataframe\">\n",
              "  <thead>\n",
              "    <tr style=\"text-align: right;\">\n",
              "      <th></th>\n",
              "      <th></th>\n",
              "      <th>video_id</th>\n",
              "      <th>label</th>\n",
              "      <th>frames</th>\n",
              "      <th>label_id</th>\n",
              "      <th>shape</th>\n",
              "      <th>format</th>\n",
              "    </tr>\n",
              "    <tr>\n",
              "      <th>label</th>\n",
              "      <th></th>\n",
              "      <th></th>\n",
              "      <th></th>\n",
              "      <th></th>\n",
              "      <th></th>\n",
              "      <th></th>\n",
              "      <th></th>\n",
              "    </tr>\n",
              "  </thead>\n",
              "  <tbody>\n",
              "    <tr>\n",
              "      <th rowspan=\"5\" valign=\"top\">Doing other things</th>\n",
              "      <th>928</th>\n",
              "      <td>116035</td>\n",
              "      <td>Doing other things</td>\n",
              "      <td>37</td>\n",
              "      <td>0</td>\n",
              "      <td>(100, 176)</td>\n",
              "      <td>JPEG</td>\n",
              "    </tr>\n",
              "    <tr>\n",
              "      <th>4344</th>\n",
              "      <td>98222</td>\n",
              "      <td>Doing other things</td>\n",
              "      <td>37</td>\n",
              "      <td>0</td>\n",
              "      <td>(100, 176)</td>\n",
              "      <td>JPEG</td>\n",
              "    </tr>\n",
              "    <tr>\n",
              "      <th>10118</th>\n",
              "      <td>72909</td>\n",
              "      <td>Doing other things</td>\n",
              "      <td>37</td>\n",
              "      <td>0</td>\n",
              "      <td>(100, 176)</td>\n",
              "      <td>JPEG</td>\n",
              "    </tr>\n",
              "    <tr>\n",
              "      <th>13062</th>\n",
              "      <td>73024</td>\n",
              "      <td>Doing other things</td>\n",
              "      <td>37</td>\n",
              "      <td>0</td>\n",
              "      <td>(100, 176)</td>\n",
              "      <td>JPEG</td>\n",
              "    </tr>\n",
              "    <tr>\n",
              "      <th>122</th>\n",
              "      <td>76867</td>\n",
              "      <td>Doing other things</td>\n",
              "      <td>37</td>\n",
              "      <td>0</td>\n",
              "      <td>(100, 176)</td>\n",
              "      <td>JPEG</td>\n",
              "    </tr>\n",
              "    <tr>\n",
              "      <th>...</th>\n",
              "      <th>...</th>\n",
              "      <td>...</td>\n",
              "      <td>...</td>\n",
              "      <td>...</td>\n",
              "      <td>...</td>\n",
              "      <td>...</td>\n",
              "      <td>...</td>\n",
              "    </tr>\n",
              "    <tr>\n",
              "      <th rowspan=\"5\" valign=\"top\">Zooming Out With Two Fingers</th>\n",
              "      <th>6775</th>\n",
              "      <td>21905</td>\n",
              "      <td>Zooming Out With Two Fingers</td>\n",
              "      <td>37</td>\n",
              "      <td>26</td>\n",
              "      <td>(100, 176)</td>\n",
              "      <td>JPEG</td>\n",
              "    </tr>\n",
              "    <tr>\n",
              "      <th>12753</th>\n",
              "      <td>61979</td>\n",
              "      <td>Zooming Out With Two Fingers</td>\n",
              "      <td>37</td>\n",
              "      <td>26</td>\n",
              "      <td>(100, 176)</td>\n",
              "      <td>JPEG</td>\n",
              "    </tr>\n",
              "    <tr>\n",
              "      <th>9068</th>\n",
              "      <td>139458</td>\n",
              "      <td>Zooming Out With Two Fingers</td>\n",
              "      <td>37</td>\n",
              "      <td>26</td>\n",
              "      <td>(100, 132)</td>\n",
              "      <td>JPEG</td>\n",
              "    </tr>\n",
              "    <tr>\n",
              "      <th>8934</th>\n",
              "      <td>143295</td>\n",
              "      <td>Zooming Out With Two Fingers</td>\n",
              "      <td>37</td>\n",
              "      <td>26</td>\n",
              "      <td>(100, 176)</td>\n",
              "      <td>JPEG</td>\n",
              "    </tr>\n",
              "    <tr>\n",
              "      <th>7677</th>\n",
              "      <td>93718</td>\n",
              "      <td>Zooming Out With Two Fingers</td>\n",
              "      <td>37</td>\n",
              "      <td>26</td>\n",
              "      <td>(100, 176)</td>\n",
              "      <td>JPEG</td>\n",
              "    </tr>\n",
              "  </tbody>\n",
              "</table>\n",
              "<p>5184 rows × 6 columns</p>\n",
              "</div>"
            ],
            "text/plain": [
              "                                    video_id  ... format\n",
              "label                                         ...       \n",
              "Doing other things           928      116035  ...   JPEG\n",
              "                             4344      98222  ...   JPEG\n",
              "                             10118     72909  ...   JPEG\n",
              "                             13062     73024  ...   JPEG\n",
              "                             122       76867  ...   JPEG\n",
              "...                                      ...  ...    ...\n",
              "Zooming Out With Two Fingers 6775      21905  ...   JPEG\n",
              "                             12753     61979  ...   JPEG\n",
              "                             9068     139458  ...   JPEG\n",
              "                             8934     143295  ...   JPEG\n",
              "                             7677      93718  ...   JPEG\n",
              "\n",
              "[5184 rows x 6 columns]"
            ]
          },
          "metadata": {
            "tags": []
          },
          "execution_count": 57
        }
      ]
    },
    {
      "cell_type": "code",
      "metadata": {
        "id": "xcE1LMDu3HjJ",
        "colab_type": "code",
        "colab": {}
      },
      "source": [
        "val_set = val[val[\"frames\"]==37].groupby(by = \"label\").apply(lambda x: x.sample(n = 192))[[\"video_id\", \"label_id\"]].to_numpy()"
      ],
      "execution_count": 0,
      "outputs": []
    },
    {
      "cell_type": "code",
      "metadata": {
        "id": "sw4QWOMUPdiG",
        "colab_type": "code",
        "outputId": "177846d7-4caa-4933-eaff-9eba195d0a3a",
        "colab": {
          "base_uri": "https://localhost:8080/",
          "height": 136
        }
      },
      "source": [
        "test[test[\"frames\"]==37].count()"
      ],
      "execution_count": 0,
      "outputs": [
        {
          "output_type": "execute_result",
          "data": {
            "text/plain": [
              "id          6981\n",
              "label          0\n",
              "frames      6981\n",
              "label_id       0\n",
              "shape       6981\n",
              "format      6981\n",
              "dtype: int64"
            ]
          },
          "metadata": {
            "tags": []
          },
          "execution_count": 59
        }
      ]
    },
    {
      "cell_type": "code",
      "metadata": {
        "id": "ktFyLtXLnxFf",
        "colab_type": "code",
        "colab": {}
      },
      "source": [
        "test_set = test[test[\"frames\"]==37][[\"id\", \"label_id\"]].to_numpy()"
      ],
      "execution_count": 0,
      "outputs": []
    },
    {
      "cell_type": "markdown",
      "metadata": {
        "id": "9M-_EvCndVi3",
        "colab_type": "text"
      },
      "source": [
        "## Data Pipeline\n",
        "This is the ETL (Extract, Transform & Load) Data input pipeline to be used for preprocessing"
      ]
    },
    {
      "cell_type": "code",
      "metadata": {
        "id": "mfC6aSRgdkFP",
        "colab_type": "code",
        "colab": {}
      },
      "source": [
        "# Decode the video frames as int64 values of color & recast it as float32\n",
        "# Resize the video frames into a squared size (100, 100, channels = 3)\n",
        "\n",
        "def preprocess_image(image):\n",
        "    '''\n",
        "    Decodes the binary form to normalized vector (aka tensor) form\n",
        "    '''\n",
        "    # img_raw = tf.io.read_file(img_path)\n",
        "    # img_tensor = tf.image.decode_image(img_raw)\n",
        "    image = tf.image.decode_jpeg(image, channels=3) # imports RGB channels, jpeg doesn't have a 4th channel alpha for transparency like png\n",
        "    image = tf.image.resize(image, [100, 100]) # original dimensions are (176, 100)\n",
        "    # image = tf.image.convert_image_dtype(image, tf.float32)\n",
        "    image /= 255.0  # normalize to [0,1] range\n",
        "    return image\n",
        "\n",
        "# Turning this into a tf.function as test_dataset uses it directly\n",
        "@tf.function\n",
        "def load_and_preprocess_image(path):\n",
        "    '''\n",
        "    Open the file from path as binary\n",
        "\n",
        "    NOTE: AutoGraph supports common Python statements like `while`, `for`, `if`, `break`, `continue` and `return`, with support for nesting. \n",
        "    That means you can use `Tensor` expressions in the condition of `while` and `if` statements, or iterate over a `Tensor` in a `for` loop. \n",
        "    [ref](https://www.tensorflow.org/guide/function#use_python_control_flow)\n",
        "    '''\n",
        "    image = tf.io.read_file(path)\n",
        "    return preprocess_image(image)\n",
        "\n",
        "@tf.function\n",
        "def load_and_preprocess_from_path_label(path, label):\n",
        "    '''\n",
        "    Returns image, label pair as a tuple\n",
        "    \n",
        "    NOTE: If your code uses multiple functions, you don't need to annotate them all - any functions called from an annotated function \n",
        "    will also run in graph mode. [ref](https://www.tensorflow.org/guide/function#the_tffunction_decorator)\n",
        "    '''\n",
        "    return (load_and_preprocess_image(path), label)"
      ],
      "execution_count": 0,
      "outputs": []
    },
    {
      "cell_type": "code",
      "metadata": {
        "id": "Bdd5Vv3Xdt5R",
        "colab_type": "code",
        "outputId": "0ab41ba3-8898-41e9-a636-ea87b122b62f",
        "colab": {
          "base_uri": "https://localhost:8080/",
          "height": 54
        }
      },
      "source": [
        "vids = [\"0\" * (5 - math.ceil(math.log10(x))) + str(x) + \".jpg\" if x != 10**(math.ceil(math.log10(x))) else \"0\" * (4 - math.ceil(math.log10(x))) + str(x) + \".jpg\" for x in range(1,38)]\n",
        "vids[0] = \"00001.jpg\"\n",
        "print(vids)"
      ],
      "execution_count": 0,
      "outputs": [
        {
          "output_type": "stream",
          "text": [
            "['00001.jpg', '00002.jpg', '00003.jpg', '00004.jpg', '00005.jpg', '00006.jpg', '00007.jpg', '00008.jpg', '00009.jpg', '00010.jpg', '00011.jpg', '00012.jpg', '00013.jpg', '00014.jpg', '00015.jpg', '00016.jpg', '00017.jpg', '00018.jpg', '00019.jpg', '00020.jpg', '00021.jpg', '00022.jpg', '00023.jpg', '00024.jpg', '00025.jpg', '00026.jpg', '00027.jpg', '00028.jpg', '00029.jpg', '00030.jpg', '00031.jpg', '00032.jpg', '00033.jpg', '00034.jpg', '00035.jpg', '00036.jpg', '00037.jpg']\n"
          ],
          "name": "stdout"
        }
      ]
    },
    {
      "cell_type": "code",
      "metadata": {
        "id": "BWvRPT0ppFDb",
        "colab_type": "code",
        "colab": {}
      },
      "source": [
        "train[\"video_id\"] = \"/content/20bn-jester-v1\" + train[\"video_id\"].astype(str)\n",
        "val[\"video_id\"] = \"/content/20bn-jester-v1\" + val[\"video_id\"].astype(str)\n",
        "test[\"id\"] = \"/content/20bn-jester-v1\" + test[\"id\"].astype(str)"
      ],
      "execution_count": 0,
      "outputs": []
    },
    {
      "cell_type": "code",
      "metadata": {
        "id": "m5O8J-4kDcEO",
        "colab_type": "code",
        "colab": {}
      },
      "source": [
        "train_set = train[train[\"frames\"]==37].groupby(by = \"label\").apply(lambda x: x.sample(n = 1327))[[\"video_id\", \"label_id\"]].to_numpy()\n",
        "val_set = val[val[\"frames\"]==37].groupby(by = \"label\").apply(lambda x: x.sample(n = 192))[[\"video_id\", \"label_id\"]].to_numpy()\n",
        "test_set = test[test[\"frames\"]==37][[\"id\", \"label_id\"]].to_numpy()"
      ],
      "execution_count": 0,
      "outputs": []
    },
    {
      "cell_type": "code",
      "metadata": {
        "id": "yFkSgJL5GJCV",
        "colab_type": "code",
        "outputId": "6531adbe-6efd-4ace-f995-f4871596fddb",
        "colab": {
          "base_uri": "https://localhost:8080/",
          "height": 136
        }
      },
      "source": [
        "val_set[:, 0]\n"
      ],
      "execution_count": 0,
      "outputs": [
        {
          "output_type": "execute_result",
          "data": {
            "text/plain": [
              "array(['/content/20bn-jester-v1/content/20bn-jester-v1134744',\n",
              "       '/content/20bn-jester-v1/content/20bn-jester-v17533',\n",
              "       '/content/20bn-jester-v1/content/20bn-jester-v1134563', ...,\n",
              "       '/content/20bn-jester-v1/content/20bn-jester-v1101020',\n",
              "       '/content/20bn-jester-v1/content/20bn-jester-v125301',\n",
              "       '/content/20bn-jester-v1/content/20bn-jester-v1124955'],\n",
              "      dtype=object)"
            ]
          },
          "metadata": {
            "tags": []
          },
          "execution_count": 74
        }
      ]
    },
    {
      "cell_type": "code",
      "metadata": {
        "id": "Bza-A4NlMrRW",
        "colab_type": "code",
        "outputId": "c44e2662-5d2b-4af5-b986-fc616d2109e2",
        "colab": {
          "base_uri": "https://localhost:8080/",
          "height": 34
        }
      },
      "source": [
        "val_set[:, 1]"
      ],
      "execution_count": 0,
      "outputs": [
        {
          "output_type": "execute_result",
          "data": {
            "text/plain": [
              "array([0, 0, 0, ..., 26, 26, 26], dtype=object)"
            ]
          },
          "metadata": {
            "tags": []
          },
          "execution_count": 75
        }
      ]
    },
    {
      "cell_type": "code",
      "metadata": {
        "id": "t3D-pY2CMvfN",
        "colab_type": "code",
        "outputId": "34775448-b1af-432e-d986-e6a3eece5809",
        "colab": {
          "base_uri": "https://localhost:8080/",
          "height": 153
        }
      },
      "source": [
        "val_set[:]"
      ],
      "execution_count": 0,
      "outputs": [
        {
          "output_type": "execute_result",
          "data": {
            "text/plain": [
              "array([['/content/20bn-jester-v1/content/20bn-jester-v1134744', 0],\n",
              "       ['/content/20bn-jester-v1/content/20bn-jester-v17533', 0],\n",
              "       ['/content/20bn-jester-v1/content/20bn-jester-v1134563', 0],\n",
              "       ...,\n",
              "       ['/content/20bn-jester-v1/content/20bn-jester-v1101020', 26],\n",
              "       ['/content/20bn-jester-v1/content/20bn-jester-v125301', 26],\n",
              "       ['/content/20bn-jester-v1/content/20bn-jester-v1124955', 26]],\n",
              "      dtype=object)"
            ]
          },
          "metadata": {
            "tags": []
          },
          "execution_count": 76
        }
      ]
    },
    {
      "cell_type": "code",
      "metadata": {
        "id": "iet5lIQrVbCe",
        "colab_type": "code",
        "colab": {}
      },
      "source": [
        ""
      ],
      "execution_count": 0,
      "outputs": []
    }
  ]
}